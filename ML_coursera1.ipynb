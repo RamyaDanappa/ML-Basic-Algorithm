{
    "cells": [
        {
            "metadata": {},
            "cell_type": "markdown",
            "source": "In this notebook we try to practice all the classification algorithms that we learned in this course.\n\nWe load a dataset using Pandas library, and apply the following algorithms, and find the best one for this specific dataset by accuracy evaluation methods.\n\nLets first load required libraries:"
        },
        {
            "metadata": {},
            "cell_type": "code",
            "source": "import itertools\nimport numpy as np\nimport matplotlib.pyplot as plt\nfrom matplotlib.ticker import NullFormatter\nimport pandas as pd\nimport numpy as np\nimport seaborn as sns\nimport matplotlib.ticker as ticker\nfrom sklearn import preprocessing\n%matplotlib inline",
            "execution_count": 10,
            "outputs": []
        },
        {
            "metadata": {},
            "cell_type": "markdown",
            "source": "# About dataset"
        },
        {
            "metadata": {},
            "cell_type": "markdown",
            "source": "This dataset is about past loans. The __Loan_train.csv__ data set includes details of 346 customers whose loan are already paid off or defaulted. It includes following fields:\n\n| Field          | Description                                                                           |\n|----------------|---------------------------------------------------------------------------------------|\n| Loan_status    | Whether a loan is paid off on in collection                                           |\n| Principal      | Basic principal loan amount at the                                                    |\n| Terms          | Origination terms which can be weekly (7 days), biweekly, and monthly payoff schedule |\n| Effective_date | When the loan got originated and took effects                                         |\n| Due_date       | Since it\u2019s one-time payoff schedule, each loan has one single due date                |\n| Age            | Age of applicant                                                                      |\n| Education      | Education of applicant                                                                |\n| Gender         | The gender of applicant                                                               |"
        },
        {
            "metadata": {},
            "cell_type": "code",
            "source": "!wget -O loan_train.csv https://s3-api.us-geo.objectstorage.softlayer.net/cf-courses-data/CognitiveClass/ML0101ENv3/labs/loan_train.csv",
            "execution_count": 11,
            "outputs": [
                {
                    "output_type": "stream",
                    "text": "--2020-07-02 09:43:29--  https://s3-api.us-geo.objectstorage.softlayer.net/cf-courses-data/CognitiveClass/ML0101ENv3/labs/loan_train.csv\nResolving s3-api.us-geo.objectstorage.softlayer.net (s3-api.us-geo.objectstorage.softlayer.net)... 67.228.254.196\nConnecting to s3-api.us-geo.objectstorage.softlayer.net (s3-api.us-geo.objectstorage.softlayer.net)|67.228.254.196|:443... connected.\nHTTP request sent, awaiting response... 200 OK\nLength: 23101 (23K) [text/csv]\nSaving to: \u2018loan_train.csv\u2019\n\n100%[======================================>] 23,101      --.-K/s   in 0.002s  \n\n2020-07-02 09:43:29 (12.4 MB/s) - \u2018loan_train.csv\u2019 saved [23101/23101]\n\n",
                    "name": "stdout"
                }
            ]
        },
        {
            "metadata": {},
            "cell_type": "markdown",
            "source": "### Load Data From CSV File  "
        },
        {
            "metadata": {},
            "cell_type": "code",
            "source": "df = pd.read_csv('loan_train.csv')\ndf.head()",
            "execution_count": 12,
            "outputs": [
                {
                    "output_type": "execute_result",
                    "execution_count": 12,
                    "data": {
                        "text/plain": "   Unnamed: 0  Unnamed: 0.1 loan_status  Principal  terms effective_date  \\\n0           0             0     PAIDOFF       1000     30       9/8/2016   \n1           2             2     PAIDOFF       1000     30       9/8/2016   \n2           3             3     PAIDOFF       1000     15       9/8/2016   \n3           4             4     PAIDOFF       1000     30       9/9/2016   \n4           6             6     PAIDOFF       1000     30       9/9/2016   \n\n    due_date  age             education  Gender  \n0  10/7/2016   45  High School or Below    male  \n1  10/7/2016   33              Bechalor  female  \n2  9/22/2016   27               college    male  \n3  10/8/2016   28               college  female  \n4  10/8/2016   29               college    male  ",
                        "text/html": "<div>\n<style scoped>\n    .dataframe tbody tr th:only-of-type {\n        vertical-align: middle;\n    }\n\n    .dataframe tbody tr th {\n        vertical-align: top;\n    }\n\n    .dataframe thead th {\n        text-align: right;\n    }\n</style>\n<table border=\"1\" class=\"dataframe\">\n  <thead>\n    <tr style=\"text-align: right;\">\n      <th></th>\n      <th>Unnamed: 0</th>\n      <th>Unnamed: 0.1</th>\n      <th>loan_status</th>\n      <th>Principal</th>\n      <th>terms</th>\n      <th>effective_date</th>\n      <th>due_date</th>\n      <th>age</th>\n      <th>education</th>\n      <th>Gender</th>\n    </tr>\n  </thead>\n  <tbody>\n    <tr>\n      <th>0</th>\n      <td>0</td>\n      <td>0</td>\n      <td>PAIDOFF</td>\n      <td>1000</td>\n      <td>30</td>\n      <td>9/8/2016</td>\n      <td>10/7/2016</td>\n      <td>45</td>\n      <td>High School or Below</td>\n      <td>male</td>\n    </tr>\n    <tr>\n      <th>1</th>\n      <td>2</td>\n      <td>2</td>\n      <td>PAIDOFF</td>\n      <td>1000</td>\n      <td>30</td>\n      <td>9/8/2016</td>\n      <td>10/7/2016</td>\n      <td>33</td>\n      <td>Bechalor</td>\n      <td>female</td>\n    </tr>\n    <tr>\n      <th>2</th>\n      <td>3</td>\n      <td>3</td>\n      <td>PAIDOFF</td>\n      <td>1000</td>\n      <td>15</td>\n      <td>9/8/2016</td>\n      <td>9/22/2016</td>\n      <td>27</td>\n      <td>college</td>\n      <td>male</td>\n    </tr>\n    <tr>\n      <th>3</th>\n      <td>4</td>\n      <td>4</td>\n      <td>PAIDOFF</td>\n      <td>1000</td>\n      <td>30</td>\n      <td>9/9/2016</td>\n      <td>10/8/2016</td>\n      <td>28</td>\n      <td>college</td>\n      <td>female</td>\n    </tr>\n    <tr>\n      <th>4</th>\n      <td>6</td>\n      <td>6</td>\n      <td>PAIDOFF</td>\n      <td>1000</td>\n      <td>30</td>\n      <td>9/9/2016</td>\n      <td>10/8/2016</td>\n      <td>29</td>\n      <td>college</td>\n      <td>male</td>\n    </tr>\n  </tbody>\n</table>\n</div>"
                    },
                    "metadata": {}
                }
            ]
        },
        {
            "metadata": {},
            "cell_type": "markdown",
            "source": "# Data visualization and pre-processing\n"
        },
        {
            "metadata": {},
            "cell_type": "code",
            "source": "print(df['loan_status'].value_counts())\nprint(df['education'].value_counts())\nprint(df['Gender'].value_counts())",
            "execution_count": 13,
            "outputs": [
                {
                    "output_type": "stream",
                    "text": "PAIDOFF       260\nCOLLECTION     86\nName: loan_status, dtype: int64\nHigh School or Below    151\ncollege                 149\nBechalor                 44\nMaster or Above           2\nName: education, dtype: int64\nmale      294\nfemale     52\nName: Gender, dtype: int64\n",
                    "name": "stdout"
                }
            ]
        },
        {
            "metadata": {},
            "cell_type": "markdown",
            "source": "260 people have paid off the loan on time while 86 have gone into collection\nmale 294 and female 52 \namong them 151 are high school or below, 149 are college students and 2 ar master or above"
        },
        {
            "metadata": {},
            "cell_type": "markdown",
            "source": "### Convert to date time object "
        },
        {
            "metadata": {},
            "cell_type": "code",
            "source": "df['due_date'] = pd.to_datetime(df['due_date'])\ndf['effective_date'] = pd.to_datetime(df['effective_date'])",
            "execution_count": 14,
            "outputs": []
        },
        {
            "metadata": {},
            "cell_type": "markdown",
            "source": "# Pre-processing:  Feature selection/extraction"
        },
        {
            "metadata": {},
            "cell_type": "markdown",
            "source": "### Lets look at the day of the week people get the loan "
        },
        {
            "metadata": {},
            "cell_type": "code",
            "source": "df['dayofweek'] = df['effective_date'].dt.dayofweek\nbins = np.linspace(df.dayofweek.min(), df.dayofweek.max(), 10)\ng = sns.FacetGrid(df, col=\"Gender\", hue=\"loan_status\", palette=\"Set1\", col_wrap=2)\ng.map(plt.hist, 'dayofweek', bins=bins, ec=\"k\")\ng.axes[-1].legend()\nplt.show()",
            "execution_count": 15,
            "outputs": [
                {
                    "output_type": "display_data",
                    "data": {
                        "text/plain": "<Figure size 432x216 with 2 Axes>",
                        "image/png": "[encoded data removed]"
                    },
                    "metadata": {
                        "needs_background": "light"
                    }
                }
            ]
        },
        {
            "metadata": {},
            "cell_type": "markdown",
            "source": "We see that people who get the loan at the end of the week dont pay it off, so lets use Feature binarization to set a threshold values less then day 4 "
        },
        {
            "metadata": {},
            "cell_type": "code",
            "source": "df['weekend'] = df['dayofweek'].apply(lambda x: 1 if (x>3)  else 0)\ndf.head()",
            "execution_count": 16,
            "outputs": [
                {
                    "output_type": "execute_result",
                    "execution_count": 16,
                    "data": {
                        "text/plain": "   Unnamed: 0  Unnamed: 0.1 loan_status  Principal  terms effective_date  \\\n0           0             0     PAIDOFF       1000     30     2016-09-08   \n1           2             2     PAIDOFF       1000     30     2016-09-08   \n2           3             3     PAIDOFF       1000     15     2016-09-08   \n3           4             4     PAIDOFF       1000     30     2016-09-09   \n4           6             6     PAIDOFF       1000     30     2016-09-09   \n\n    due_date  age             education  Gender  dayofweek  weekend  \n0 2016-10-07   45  High School or Below    male          3        0  \n1 2016-10-07   33              Bechalor  female          3        0  \n2 2016-09-22   27               college    male          3        0  \n3 2016-10-08   28               college  female          4        1  \n4 2016-10-08   29               college    male          4        1  ",
                        "text/html": "<div>\n<style scoped>\n    .dataframe tbody tr th:only-of-type {\n        vertical-align: middle;\n    }\n\n    .dataframe tbody tr th {\n        vertical-align: top;\n    }\n\n    .dataframe thead th {\n        text-align: right;\n    }\n</style>\n<table border=\"1\" class=\"dataframe\">\n  <thead>\n    <tr style=\"text-align: right;\">\n      <th></th>\n      <th>Unnamed: 0</th>\n      <th>Unnamed: 0.1</th>\n      <th>loan_status</th>\n      <th>Principal</th>\n      <th>terms</th>\n      <th>effective_date</th>\n      <th>due_date</th>\n      <th>age</th>\n      <th>education</th>\n      <th>Gender</th>\n      <th>dayofweek</th>\n      <th>weekend</th>\n    </tr>\n  </thead>\n  <tbody>\n    <tr>\n      <th>0</th>\n      <td>0</td>\n      <td>0</td>\n      <td>PAIDOFF</td>\n      <td>1000</td>\n      <td>30</td>\n      <td>2016-09-08</td>\n      <td>2016-10-07</td>\n      <td>45</td>\n      <td>High School or Below</td>\n      <td>male</td>\n      <td>3</td>\n      <td>0</td>\n    </tr>\n    <tr>\n      <th>1</th>\n      <td>2</td>\n      <td>2</td>\n      <td>PAIDOFF</td>\n      <td>1000</td>\n      <td>30</td>\n      <td>2016-09-08</td>\n      <td>2016-10-07</td>\n      <td>33</td>\n      <td>Bechalor</td>\n      <td>female</td>\n      <td>3</td>\n      <td>0</td>\n    </tr>\n    <tr>\n      <th>2</th>\n      <td>3</td>\n      <td>3</td>\n      <td>PAIDOFF</td>\n      <td>1000</td>\n      <td>15</td>\n      <td>2016-09-08</td>\n      <td>2016-09-22</td>\n      <td>27</td>\n      <td>college</td>\n      <td>male</td>\n      <td>3</td>\n      <td>0</td>\n    </tr>\n    <tr>\n      <th>3</th>\n      <td>4</td>\n      <td>4</td>\n      <td>PAIDOFF</td>\n      <td>1000</td>\n      <td>30</td>\n      <td>2016-09-09</td>\n      <td>2016-10-08</td>\n      <td>28</td>\n      <td>college</td>\n      <td>female</td>\n      <td>4</td>\n      <td>1</td>\n    </tr>\n    <tr>\n      <th>4</th>\n      <td>6</td>\n      <td>6</td>\n      <td>PAIDOFF</td>\n      <td>1000</td>\n      <td>30</td>\n      <td>2016-09-09</td>\n      <td>2016-10-08</td>\n      <td>29</td>\n      <td>college</td>\n      <td>male</td>\n      <td>4</td>\n      <td>1</td>\n    </tr>\n  </tbody>\n</table>\n</div>"
                    },
                    "metadata": {}
                }
            ]
        },
        {
            "metadata": {},
            "cell_type": "markdown",
            "source": "## Convert Categorical features to numerical values"
        },
        {
            "metadata": {},
            "cell_type": "code",
            "source": "df.groupby(['Gender'])['loan_status'].value_counts(normalize=True)",
            "execution_count": 17,
            "outputs": [
                {
                    "output_type": "execute_result",
                    "execution_count": 17,
                    "data": {
                        "text/plain": "Gender  loan_status\nfemale  PAIDOFF        0.865385\n        COLLECTION     0.134615\nmale    PAIDOFF        0.731293\n        COLLECTION     0.268707\nName: loan_status, dtype: float64"
                    },
                    "metadata": {}
                }
            ]
        },
        {
            "metadata": {},
            "cell_type": "markdown",
            "source": "86 % of female pay there loans while only 73 % of males pay there loan"
        },
        {
            "metadata": {},
            "cell_type": "markdown",
            "source": "Lets convert male to 0 and female to 1:"
        },
        {
            "metadata": {},
            "cell_type": "code",
            "source": "df['Gender'].replace(to_replace=['male','female'], value=[0,1],inplace=True)\ndf.head()\n",
            "execution_count": 18,
            "outputs": [
                {
                    "output_type": "execute_result",
                    "execution_count": 18,
                    "data": {
                        "text/plain": "   Unnamed: 0  Unnamed: 0.1 loan_status  Principal  terms effective_date  \\\n0           0             0     PAIDOFF       1000     30     2016-09-08   \n1           2             2     PAIDOFF       1000     30     2016-09-08   \n2           3             3     PAIDOFF       1000     15     2016-09-08   \n3           4             4     PAIDOFF       1000     30     2016-09-09   \n4           6             6     PAIDOFF       1000     30     2016-09-09   \n\n    due_date  age             education  Gender  dayofweek  weekend  \n0 2016-10-07   45  High School or Below       0          3        0  \n1 2016-10-07   33              Bechalor       1          3        0  \n2 2016-09-22   27               college       0          3        0  \n3 2016-10-08   28               college       1          4        1  \n4 2016-10-08   29               college       0          4        1  ",
                        "text/html": "<div>\n<style scoped>\n    .dataframe tbody tr th:only-of-type {\n        vertical-align: middle;\n    }\n\n    .dataframe tbody tr th {\n        vertical-align: top;\n    }\n\n    .dataframe thead th {\n        text-align: right;\n    }\n</style>\n<table border=\"1\" class=\"dataframe\">\n  <thead>\n    <tr style=\"text-align: right;\">\n      <th></th>\n      <th>Unnamed: 0</th>\n      <th>Unnamed: 0.1</th>\n      <th>loan_status</th>\n      <th>Principal</th>\n      <th>terms</th>\n      <th>effective_date</th>\n      <th>due_date</th>\n      <th>age</th>\n      <th>education</th>\n      <th>Gender</th>\n      <th>dayofweek</th>\n      <th>weekend</th>\n    </tr>\n  </thead>\n  <tbody>\n    <tr>\n      <th>0</th>\n      <td>0</td>\n      <td>0</td>\n      <td>PAIDOFF</td>\n      <td>1000</td>\n      <td>30</td>\n      <td>2016-09-08</td>\n      <td>2016-10-07</td>\n      <td>45</td>\n      <td>High School or Below</td>\n      <td>0</td>\n      <td>3</td>\n      <td>0</td>\n    </tr>\n    <tr>\n      <th>1</th>\n      <td>2</td>\n      <td>2</td>\n      <td>PAIDOFF</td>\n      <td>1000</td>\n      <td>30</td>\n      <td>2016-09-08</td>\n      <td>2016-10-07</td>\n      <td>33</td>\n      <td>Bechalor</td>\n      <td>1</td>\n      <td>3</td>\n      <td>0</td>\n    </tr>\n    <tr>\n      <th>2</th>\n      <td>3</td>\n      <td>3</td>\n      <td>PAIDOFF</td>\n      <td>1000</td>\n      <td>15</td>\n      <td>2016-09-08</td>\n      <td>2016-09-22</td>\n      <td>27</td>\n      <td>college</td>\n      <td>0</td>\n      <td>3</td>\n      <td>0</td>\n    </tr>\n    <tr>\n      <th>3</th>\n      <td>4</td>\n      <td>4</td>\n      <td>PAIDOFF</td>\n      <td>1000</td>\n      <td>30</td>\n      <td>2016-09-09</td>\n      <td>2016-10-08</td>\n      <td>28</td>\n      <td>college</td>\n      <td>1</td>\n      <td>4</td>\n      <td>1</td>\n    </tr>\n    <tr>\n      <th>4</th>\n      <td>6</td>\n      <td>6</td>\n      <td>PAIDOFF</td>\n      <td>1000</td>\n      <td>30</td>\n      <td>2016-09-09</td>\n      <td>2016-10-08</td>\n      <td>29</td>\n      <td>college</td>\n      <td>0</td>\n      <td>4</td>\n      <td>1</td>\n    </tr>\n  </tbody>\n</table>\n</div>"
                    },
                    "metadata": {}
                }
            ]
        },
        {
            "metadata": {},
            "cell_type": "markdown",
            "source": "## One Hot Encoding  \n#### How about education?"
        },
        {
            "metadata": {},
            "cell_type": "code",
            "source": "df[['Principal','terms','age','Gender','education']].head()",
            "execution_count": 19,
            "outputs": [
                {
                    "output_type": "execute_result",
                    "execution_count": 19,
                    "data": {
                        "text/plain": "   Principal  terms  age  Gender             education\n0       1000     30   45       0  High School or Below\n1       1000     30   33       1              Bechalor\n2       1000     15   27       0               college\n3       1000     30   28       1               college\n4       1000     30   29       0               college",
                        "text/html": "<div>\n<style scoped>\n    .dataframe tbody tr th:only-of-type {\n        vertical-align: middle;\n    }\n\n    .dataframe tbody tr th {\n        vertical-align: top;\n    }\n\n    .dataframe thead th {\n        text-align: right;\n    }\n</style>\n<table border=\"1\" class=\"dataframe\">\n  <thead>\n    <tr style=\"text-align: right;\">\n      <th></th>\n      <th>Principal</th>\n      <th>terms</th>\n      <th>age</th>\n      <th>Gender</th>\n      <th>education</th>\n    </tr>\n  </thead>\n  <tbody>\n    <tr>\n      <th>0</th>\n      <td>1000</td>\n      <td>30</td>\n      <td>45</td>\n      <td>0</td>\n      <td>High School or Below</td>\n    </tr>\n    <tr>\n      <th>1</th>\n      <td>1000</td>\n      <td>30</td>\n      <td>33</td>\n      <td>1</td>\n      <td>Bechalor</td>\n    </tr>\n    <tr>\n      <th>2</th>\n      <td>1000</td>\n      <td>15</td>\n      <td>27</td>\n      <td>0</td>\n      <td>college</td>\n    </tr>\n    <tr>\n      <th>3</th>\n      <td>1000</td>\n      <td>30</td>\n      <td>28</td>\n      <td>1</td>\n      <td>college</td>\n    </tr>\n    <tr>\n      <th>4</th>\n      <td>1000</td>\n      <td>30</td>\n      <td>29</td>\n      <td>0</td>\n      <td>college</td>\n    </tr>\n  </tbody>\n</table>\n</div>"
                    },
                    "metadata": {}
                }
            ]
        },
        {
            "metadata": {},
            "cell_type": "code",
            "source": "Feature = df[['Principal','terms','age','Gender','weekend']]\nFeature = pd.concat([Feature,pd.get_dummies(df['education'])], axis=1)\nFeature.drop(['Master or Above'], axis = 1,inplace=True)\nFeature.head()",
            "execution_count": 20,
            "outputs": [
                {
                    "output_type": "execute_result",
                    "execution_count": 20,
                    "data": {
                        "text/plain": "   Principal  terms  age  Gender  weekend  Bechalor  High School or Below  \\\n0       1000     30   45       0        0         0                     1   \n1       1000     30   33       1        0         1                     0   \n2       1000     15   27       0        0         0                     0   \n3       1000     30   28       1        1         0                     0   \n4       1000     30   29       0        1         0                     0   \n\n   college  \n0        0  \n1        0  \n2        1  \n3        1  \n4        1  ",
                        "text/html": "<div>\n<style scoped>\n    .dataframe tbody tr th:only-of-type {\n        vertical-align: middle;\n    }\n\n    .dataframe tbody tr th {\n        vertical-align: top;\n    }\n\n    .dataframe thead th {\n        text-align: right;\n    }\n</style>\n<table border=\"1\" class=\"dataframe\">\n  <thead>\n    <tr style=\"text-align: right;\">\n      <th></th>\n      <th>Principal</th>\n      <th>terms</th>\n      <th>age</th>\n      <th>Gender</th>\n      <th>weekend</th>\n      <th>Bechalor</th>\n      <th>High School or Below</th>\n      <th>college</th>\n    </tr>\n  </thead>\n  <tbody>\n    <tr>\n      <th>0</th>\n      <td>1000</td>\n      <td>30</td>\n      <td>45</td>\n      <td>0</td>\n      <td>0</td>\n      <td>0</td>\n      <td>1</td>\n      <td>0</td>\n    </tr>\n    <tr>\n      <th>1</th>\n      <td>1000</td>\n      <td>30</td>\n      <td>33</td>\n      <td>1</td>\n      <td>0</td>\n      <td>1</td>\n      <td>0</td>\n      <td>0</td>\n    </tr>\n    <tr>\n      <th>2</th>\n      <td>1000</td>\n      <td>15</td>\n      <td>27</td>\n      <td>0</td>\n      <td>0</td>\n      <td>0</td>\n      <td>0</td>\n      <td>1</td>\n    </tr>\n    <tr>\n      <th>3</th>\n      <td>1000</td>\n      <td>30</td>\n      <td>28</td>\n      <td>1</td>\n      <td>1</td>\n      <td>0</td>\n      <td>0</td>\n      <td>1</td>\n    </tr>\n    <tr>\n      <th>4</th>\n      <td>1000</td>\n      <td>30</td>\n      <td>29</td>\n      <td>0</td>\n      <td>1</td>\n      <td>0</td>\n      <td>0</td>\n      <td>1</td>\n    </tr>\n  </tbody>\n</table>\n</div>"
                    },
                    "metadata": {}
                }
            ]
        },
        {
            "metadata": {},
            "cell_type": "markdown",
            "source": "#### Use one hot encoding technique to conver categorical varables to binary variables and append them to the feature Data Frame "
        },
        {
            "metadata": {},
            "cell_type": "markdown",
            "source": "### Feature selection"
        },
        {
            "metadata": {},
            "cell_type": "code",
            "source": "X = Feature\nX[0:5]",
            "execution_count": 21,
            "outputs": [
                {
                    "output_type": "execute_result",
                    "execution_count": 21,
                    "data": {
                        "text/plain": "   Principal  terms  age  Gender  weekend  Bechalor  High School or Below  \\\n0       1000     30   45       0        0         0                     1   \n1       1000     30   33       1        0         1                     0   \n2       1000     15   27       0        0         0                     0   \n3       1000     30   28       1        1         0                     0   \n4       1000     30   29       0        1         0                     0   \n\n   college  \n0        0  \n1        0  \n2        1  \n3        1  \n4        1  ",
                        "text/html": "<div>\n<style scoped>\n    .dataframe tbody tr th:only-of-type {\n        vertical-align: middle;\n    }\n\n    .dataframe tbody tr th {\n        vertical-align: top;\n    }\n\n    .dataframe thead th {\n        text-align: right;\n    }\n</style>\n<table border=\"1\" class=\"dataframe\">\n  <thead>\n    <tr style=\"text-align: right;\">\n      <th></th>\n      <th>Principal</th>\n      <th>terms</th>\n      <th>age</th>\n      <th>Gender</th>\n      <th>weekend</th>\n      <th>Bechalor</th>\n      <th>High School or Below</th>\n      <th>college</th>\n    </tr>\n  </thead>\n  <tbody>\n    <tr>\n      <th>0</th>\n      <td>1000</td>\n      <td>30</td>\n      <td>45</td>\n      <td>0</td>\n      <td>0</td>\n      <td>0</td>\n      <td>1</td>\n      <td>0</td>\n    </tr>\n    <tr>\n      <th>1</th>\n      <td>1000</td>\n      <td>30</td>\n      <td>33</td>\n      <td>1</td>\n      <td>0</td>\n      <td>1</td>\n      <td>0</td>\n      <td>0</td>\n    </tr>\n    <tr>\n      <th>2</th>\n      <td>1000</td>\n      <td>15</td>\n      <td>27</td>\n      <td>0</td>\n      <td>0</td>\n      <td>0</td>\n      <td>0</td>\n      <td>1</td>\n    </tr>\n    <tr>\n      <th>3</th>\n      <td>1000</td>\n      <td>30</td>\n      <td>28</td>\n      <td>1</td>\n      <td>1</td>\n      <td>0</td>\n      <td>0</td>\n      <td>1</td>\n    </tr>\n    <tr>\n      <th>4</th>\n      <td>1000</td>\n      <td>30</td>\n      <td>29</td>\n      <td>0</td>\n      <td>1</td>\n      <td>0</td>\n      <td>0</td>\n      <td>1</td>\n    </tr>\n  </tbody>\n</table>\n</div>"
                    },
                    "metadata": {}
                }
            ]
        },
        {
            "metadata": {},
            "cell_type": "code",
            "source": "y = df['loan_status'].values\ny[0:5]",
            "execution_count": 22,
            "outputs": [
                {
                    "output_type": "execute_result",
                    "execution_count": 22,
                    "data": {
                        "text/plain": "array(['PAIDOFF', 'PAIDOFF', 'PAIDOFF', 'PAIDOFF', 'PAIDOFF'],\n      dtype=object)"
                    },
                    "metadata": {}
                }
            ]
        },
        {
            "metadata": {},
            "cell_type": "markdown",
            "source": "## Normalize Data "
        },
        {
            "metadata": {},
            "cell_type": "code",
            "source": "X= preprocessing.StandardScaler().fit(X).transform(X)\nX[0:5]",
            "execution_count": 23,
            "outputs": [
                {
                    "output_type": "stream",
                    "text": "/opt/conda/envs/Python36/lib/python3.6/site-packages/sklearn/preprocessing/data.py:645: DataConversionWarning: Data with input dtype uint8, int64 were all converted to float64 by StandardScaler.\n  return self.partial_fit(X, y)\n/opt/conda/envs/Python36/lib/python3.6/site-packages/ipykernel/__main__.py:1: DataConversionWarning: Data with input dtype uint8, int64 were all converted to float64 by StandardScaler.\n  if __name__ == '__main__':\n",
                    "name": "stderr"
                },
                {
                    "output_type": "execute_result",
                    "execution_count": 23,
                    "data": {
                        "text/plain": "array([[ 0.51578458,  0.92071769,  2.33152555, -0.42056004, -1.20577805,\n        -0.38170062,  1.13639374, -0.86968108],\n       [ 0.51578458,  0.92071769,  0.34170148,  2.37778177, -1.20577805,\n         2.61985426, -0.87997669, -0.86968108],\n       [ 0.51578458, -0.95911111, -0.65321055, -0.42056004, -1.20577805,\n        -0.38170062, -0.87997669,  1.14984679],\n       [ 0.51578458,  0.92071769, -0.48739188,  2.37778177,  0.82934003,\n        -0.38170062, -0.87997669,  1.14984679],\n       [ 0.51578458,  0.92071769, -0.3215732 , -0.42056004,  0.82934003,\n        -0.38170062, -0.87997669,  1.14984679]])"
                    },
                    "metadata": {}
                }
            ]
        },
        {
            "metadata": {},
            "cell_type": "markdown",
            "source": "# Classification "
        },
        {
            "metadata": {},
            "cell_type": "markdown",
            "source": "Now, it is your turn, use the training set to build an accurate model. Then use the test set to report the accuracy of the model\nYou should use the following algorithm:\n- K Nearest Neighbor(KNN)\n- Decision Tree\n- Support Vector Machine\n- Logistic Regression\n\n\n\n__ Notice:__ \n- You can go above and change the pre-processing, feature selection, feature-extraction, and so on, to make a better model.\n- You should use either scikit-learn, Scipy or Numpy libraries for developing the classification algorithms.\n- You should include the code of the algorithm in the following cells."
        },
        {
            "metadata": {},
            "cell_type": "markdown",
            "source": "## Question 1 Building model using KNN, finding the best k and accuracy evaluation (7 marks)\n\n- Anwers\n- part1\n - Below Code results perform the KNN using Sickit-learn.\n   - Train set Accuracy:  0.8115942028985508\n   - Test set Accuracy:  0.6857142857142857\n- part2\n  - Best K we can observe in the graph is 7, So best K = 7 \n- part3 \n  - The best accuracy was with 0.7857142857142857 with k= 7"
        },
        {
            "metadata": {},
            "cell_type": "code",
            "source": "#KNN\n\nfrom sklearn.model_selection import train_test_split\nX_traink, X_testk, y_traink, y_testk = train_test_split( X, y, test_size=0.2, random_state=4)\nprint ('Train set:', X_traink.shape,  y_traink.shape)\nprint ('Test set:', X_testk.shape,  y_testk.shape)\n\nfrom sklearn.neighbors import KNeighborsClassifier\nk = 4\n#Train Model and Predict  \nneigh = KNeighborsClassifier(n_neighbors = k).fit(X_traink,y_traink)\nneigh\nyhatk = neigh.predict(X_testk)\n\nfrom sklearn import metrics\nprint(\"Train set Accuracy: \", metrics.accuracy_score(y_traink, neigh.predict(X_traink)))\nprint(\"Test set Accuracy: \", metrics.accuracy_score(y_testk, yhatk))\n",
            "execution_count": 27,
            "outputs": [
                {
                    "output_type": "stream",
                    "text": "Train set: (276, 8) (276,)\nTest set: (70, 8) (70,)\nTrain set Accuracy:  0.8152173913043478\nTest set Accuracy:  0.6857142857142857\n",
                    "name": "stdout"
                }
            ]
        },
        {
            "metadata": {},
            "cell_type": "code",
            "source": "#Finding the best value of k\nKs = 15\nmean_acc = np.zeros((Ks-1))\nstd_acc = np.zeros((Ks-1))\nConfustionMx = [];\nfor n in range(1,Ks):\n    \n    #Train Model and Predict  \n    neigh = KNeighborsClassifier(n_neighbors = n).fit(X_traink,y_traink)\n    yhatk=neigh.predict(X_testk)\n    mean_acc[n-1] = metrics.accuracy_score(y_testk, yhatk)\n\n    \n    std_acc[n-1]=np.std(yhatk==y_testk)/np.sqrt(yhatk.shape[0])\n\nplt.plot(range(1,Ks),mean_acc,'g')\nplt.fill_between(range(1,Ks),mean_acc - 1 * std_acc,mean_acc + 1 * std_acc, alpha=0.10)\nplt.legend(('Accuracy ', '+/- 3xstd'))\nplt.ylabel('Accuracy ')\nplt.xlabel('Number of Nabors (K)')\nplt.tight_layout()\nplt.show()",
            "execution_count": 28,
            "outputs": [
                {
                    "output_type": "display_data",
                    "data": {
                        "text/plain": "<Figure size 432x288 with 1 Axes>",
                        "image/png": "[encoded data removed]"
                    },
                    "metadata": {
                        "needs_background": "light"
                    }
                }
            ]
        },
        {
            "metadata": {},
            "cell_type": "code",
            "source": "print( \"The best accuracy was with\", mean_acc.max(), \"with k=\", mean_acc.argmax()+1) ",
            "execution_count": 29,
            "outputs": [
                {
                    "output_type": "stream",
                    "text": "The best accuracy was with 0.7857142857142857 with k= 7\n",
                    "name": "stdout"
                }
            ]
        },
        {
            "metadata": {},
            "cell_type": "code",
            "source": "k = 13\n#Train Model and Predict  \nneighf = KNeighborsClassifier(n_neighbors = k).fit(X_traink,y_traink)\nneighf\nyhat2k = neighf.predict(X_testk)\nyhat2k\n\n",
            "execution_count": 31,
            "outputs": [
                {
                    "output_type": "execute_result",
                    "execution_count": 31,
                    "data": {
                        "text/plain": "array(['PAIDOFF', 'PAIDOFF', 'PAIDOFF', 'PAIDOFF', 'PAIDOFF', 'PAIDOFF',\n       'COLLECTION', 'COLLECTION', 'PAIDOFF', 'PAIDOFF', 'PAIDOFF',\n       'PAIDOFF', 'PAIDOFF', 'PAIDOFF', 'PAIDOFF', 'PAIDOFF',\n       'COLLECTION', 'PAIDOFF', 'COLLECTION', 'PAIDOFF', 'PAIDOFF',\n       'PAIDOFF', 'COLLECTION', 'PAIDOFF', 'PAIDOFF', 'COLLECTION',\n       'COLLECTION', 'PAIDOFF', 'COLLECTION', 'PAIDOFF', 'PAIDOFF',\n       'PAIDOFF', 'PAIDOFF', 'PAIDOFF', 'PAIDOFF', 'PAIDOFF',\n       'COLLECTION', 'PAIDOFF', 'PAIDOFF', 'PAIDOFF', 'COLLECTION',\n       'PAIDOFF', 'PAIDOFF', 'COLLECTION', 'PAIDOFF', 'PAIDOFF',\n       'PAIDOFF', 'PAIDOFF', 'PAIDOFF', 'PAIDOFF', 'PAIDOFF', 'PAIDOFF',\n       'PAIDOFF', 'PAIDOFF', 'PAIDOFF', 'PAIDOFF', 'PAIDOFF', 'PAIDOFF',\n       'PAIDOFF', 'PAIDOFF', 'PAIDOFF', 'PAIDOFF', 'PAIDOFF',\n       'COLLECTION', 'PAIDOFF', 'PAIDOFF', 'PAIDOFF', 'PAIDOFF',\n       'PAIDOFF', 'PAIDOFF'], dtype=object)"
                    },
                    "metadata": {}
                }
            ]
        },
        {
            "metadata": {},
            "cell_type": "code",
            "source": "# Building the model again, using k=7\nfrom sklearn.neighbors import KNeighborsClassifier\nk = 7\n#Train Model and Predict  \nkNN_model = KNeighborsClassifier(n_neighbors=k).fit(X_traink,y_traink)\nkNN_model",
            "execution_count": 33,
            "outputs": [
                {
                    "output_type": "execute_result",
                    "execution_count": 33,
                    "data": {
                        "text/plain": "KNeighborsClassifier(algorithm='auto', leaf_size=30, metric='minkowski',\n           metric_params=None, n_jobs=None, n_neighbors=7, p=2,\n           weights='uniform')"
                    },
                    "metadata": {}
                }
            ]
        },
        {
            "metadata": {},
            "cell_type": "markdown",
            "source": "# Decision Tree"
        },
        {
            "metadata": {},
            "cell_type": "markdown",
            "source": "# #Question 2: Building model using Decision Tree, finding the best k and accuracy evaluation (6 marks)\n\n\n\n- Anwers\n- part1\n - Below Code results perform the decision tree using Sickit-learn.\n   - DecisionTrees's Accuracy:  0.6634615384615384\n- part2\n  - Best K we can observe depth is 4, So best K = 4 \n- part3 \n  - The best accuracy DecisionTrees's Accuracy:  0.6826923076923077 and depth with k= 4"
        },
        {
            "metadata": {},
            "cell_type": "code",
            "source": "#decession tree\nfrom sklearn.model_selection import train_test_split\nX_trainsetd, X_testsetd, y_trainsetd, y_testsetd = train_test_split(X, y, test_size=0.3, random_state=3)\nfrom sklearn.tree import DecisionTreeClassifier\ndecTree = DecisionTreeClassifier(criterion=\"entropy\",max_depth=10)\ndecTree.fit(X_trainsetd,y_trainsetd)\npredTree = decTree.predict(X_testsetd)\nfrom sklearn import metrics\nimport matplotlib.pyplot as plt\nprint(\"DecisionTrees's Accuracy: \", metrics.accuracy_score(y_testsetd, predTree))",
            "execution_count": 35,
            "outputs": [
                {
                    "output_type": "stream",
                    "text": "DecisionTrees's Accuracy:  0.6442307692307693\n",
                    "name": "stdout"
                }
            ]
        },
        {
            "metadata": {},
            "cell_type": "code",
            "source": "from sklearn import decomposition, datasets\nfrom sklearn import tree\nfrom sklearn.pipeline import Pipeline\nfrom sklearn.model_selection import GridSearchCV\n# Create a pca object\npca = decomposition.PCA()\n\n# Create a logistic regression object with an L2 penalty\ndecisiontree = tree.DecisionTreeClassifier()\n\n#create a pipeline of three steps. First, standardize the data.\n# Second, tranform the data with PCA.\n# Third, train a Decision Tree Classifier on the data.\npipe = Pipeline(steps=[('pca', pca),('decisiontree', decisiontree)])\n\n# Create Parameter Space\n# Create a list of a sequence of integers from 1 to 30 (the number of features in X + 1)\nn_components = list(range(1,X.shape[1]+1,1))\n\n# Create lists of parameter for Decision Tree Classifier\ncriterion = ['gini', 'entropy']\nmax_depth = [4,6,8,12]\n\n# Create a dictionary of all the parameter options \n# Note has you can access the parameters of steps of a pipeline by using '__\u2019\nparameters = dict(pca__n_components=n_components,decisiontree__criterion=criterion,decisiontree__max_depth=max_depth)\n\n# Conduct Parameter Optmization With Pipeline\n# Create a grid search object\ndecTreef = GridSearchCV(pipe, parameters)\n\n# Fit the grid search\ndecTreef.fit(X_trainsetd,y_trainsetd)\n\n# View The Best Parameters\nprint('Best Criterion:', decTreef.best_estimator_.get_params()['decisiontree__criterion'])\nprint('Best max_depth:', decTreef.best_estimator_.get_params()['decisiontree__max_depth'])\nprint('Best Number Of Components:', decTreef.best_estimator_.get_params()['pca__n_components'])\nprint(); print(decTreef.best_estimator_.get_params()['decisiontree'])\n\ndecTreeff = DecisionTreeClassifier(class_weight=None, criterion='gini', max_depth=4,max_features=None, max_leaf_nodes=None,min_impurity_decrease=0.0, min_impurity_split=None,\n            min_samples_leaf=1, min_samples_split=2,\n            min_weight_fraction_leaf=0.0, presort=False, random_state=None,\n            splitter='best')\ndecTreeff.fit(X_trainsetd,y_trainsetd)\nprint(\"DecisionTrees's Accuracy: \", metrics.accuracy_score(y_testsetd, decTreeff.predict(X_testsetd)))",
            "execution_count": 36,
            "outputs": [
                {
                    "output_type": "stream",
                    "text": "/opt/conda/envs/Python36/lib/python3.6/site-packages/sklearn/model_selection/_split.py:2053: FutureWarning: You should specify a value for 'cv' instead of relying on the default value. The default value will change from 3 to 5 in version 0.22.\n  warnings.warn(CV_WARNING, FutureWarning)\n",
                    "name": "stderr"
                },
                {
                    "output_type": "stream",
                    "text": "Best Criterion: gini\nBest max_depth: 4\nBest Number Of Components: 1\n\nDecisionTreeClassifier(class_weight=None, criterion='gini', max_depth=4,\n            max_features=None, max_leaf_nodes=None,\n            min_impurity_decrease=0.0, min_impurity_split=None,\n            min_samples_leaf=1, min_samples_split=2,\n            min_weight_fraction_leaf=0.0, presort=False, random_state=None,\n            splitter='best')\nDecisionTrees's Accuracy:  0.6826923076923077\n",
                    "name": "stdout"
                },
                {
                    "output_type": "stream",
                    "text": "/opt/conda/envs/Python36/lib/python3.6/site-packages/sklearn/model_selection/_search.py:841: DeprecationWarning: The default of the `iid` parameter will change from True to False in version 0.22 and will be removed in 0.24. This will change numeric results when test-set sizes are unequal.\n  DeprecationWarning)\n",
                    "name": "stderr"
                }
            ]
        },
        {
            "metadata": {},
            "cell_type": "code",
            "source": "!conda install -c conda-forge pydotplus -y\n!conda install -c conda-forge python-graphviz -y",
            "execution_count": 38,
            "outputs": [
                {
                    "output_type": "stream",
                    "text": "Solving environment: done\n\n## Package Plan ##\n\n  environment location: /opt/conda/envs/Python36\n\n  added / updated specs: \n    - pydotplus\n\n\nThe following packages will be downloaded:\n\n    package                    |            build\n    ---------------------------|-----------------\n    certifi-2020.6.20          |   py36h9f0ad1d_0         151 KB  conda-forge\n    openssl-1.1.1g             |       h516909a_0         2.1 MB  conda-forge\n    python_abi-3.6             |          1_cp36m           4 KB  conda-forge\n    ca-certificates-2020.6.20  |       hecda079_0         145 KB  conda-forge\n    pydotplus-2.0.2            |     pyhd1c1de3_3          23 KB  conda-forge\n    ------------------------------------------------------------\n                                           Total:         2.4 MB\n\nThe following NEW packages will be INSTALLED:\n\n    pydotplus:       2.0.2-pyhd1c1de3_3 conda-forge\n    python_abi:      3.6-1_cp36m        conda-forge\n\nThe following packages will be UPDATED:\n\n    ca-certificates: 2020.1.1-0                     --> 2020.6.20-hecda079_0     conda-forge\n    certifi:         2020.6.20-py36_0               --> 2020.6.20-py36h9f0ad1d_0 conda-forge\n    openssl:         1.1.1g-h7b6447c_0              --> 1.1.1g-h516909a_0        conda-forge\n\n\nDownloading and Extracting Packages\ncertifi-2020.6.20    | 151 KB    | ##################################### | 100% \nopenssl-1.1.1g       | 2.1 MB    | ##################################### | 100% \npython_abi-3.6       | 4 KB      | ##################################### | 100% \nca-certificates-2020 | 145 KB    | ##################################### | 100% \npydotplus-2.0.2      | 23 KB     | ##################################### | 100% \nPreparing transaction: done\nVerifying transaction: done\nExecuting transaction: done\nSolving environment: \\ ^C\nfailed\n\nCondaError: KeyboardInterrupt\n\n",
                    "name": "stdout"
                }
            ]
        },
        {
            "metadata": {},
            "cell_type": "code",
            "source": "from sklearn.externals.six import StringIO\nimport pydotplus\nimport matplotlib.image as mpimg\nfrom sklearn import tree\n%matplotlib inline \n\ndot_data = StringIO()\nfilename = \"Tree.png\"\nfeatureNames = my_data.columns[0:5]\ntargetNames = my_data[\"Loan\"].unique().tolist()\nout=tree.export_graphviz(drugTree,feature_names=featureNames, out_file=dot_data, class_names= np.unique(y_trainset), filled=True,  special_characters=True,rotate=False)  \ngraph = pydotplus.graph_from_dot_data(dot_data.getvalue())  \ngraph.write_png(filename)\nimg = mpimg.imread(filename)\nplt.figure(figsize=(100, 200))\nplt.imshow(img,interpolation='nearest')",
            "execution_count": 37,
            "outputs": [
                {
                    "output_type": "error",
                    "ename": "ModuleNotFoundError",
                    "evalue": "No module named 'pydotplus'",
                    "traceback": [
                        "\u001b[0;31m---------------------------------------------------------------------------\u001b[0m",
                        "\u001b[0;31mModuleNotFoundError\u001b[0m                       Traceback (most recent call last)",
                        "\u001b[0;32m<ipython-input-37-03aaf70e9136>\u001b[0m in \u001b[0;36m<module>\u001b[0;34m\u001b[0m\n\u001b[1;32m      1\u001b[0m \u001b[0;32mfrom\u001b[0m \u001b[0msklearn\u001b[0m\u001b[0;34m.\u001b[0m\u001b[0mexternals\u001b[0m\u001b[0;34m.\u001b[0m\u001b[0msix\u001b[0m \u001b[0;32mimport\u001b[0m \u001b[0mStringIO\u001b[0m\u001b[0;34m\u001b[0m\u001b[0;34m\u001b[0m\u001b[0m\n\u001b[0;32m----> 2\u001b[0;31m \u001b[0;32mimport\u001b[0m \u001b[0mpydotplus\u001b[0m\u001b[0;34m\u001b[0m\u001b[0;34m\u001b[0m\u001b[0m\n\u001b[0m\u001b[1;32m      3\u001b[0m \u001b[0;32mimport\u001b[0m \u001b[0mmatplotlib\u001b[0m\u001b[0;34m.\u001b[0m\u001b[0mimage\u001b[0m \u001b[0;32mas\u001b[0m \u001b[0mmpimg\u001b[0m\u001b[0;34m\u001b[0m\u001b[0;34m\u001b[0m\u001b[0m\n\u001b[1;32m      4\u001b[0m \u001b[0;32mfrom\u001b[0m \u001b[0msklearn\u001b[0m \u001b[0;32mimport\u001b[0m \u001b[0mtree\u001b[0m\u001b[0;34m\u001b[0m\u001b[0;34m\u001b[0m\u001b[0m\n\u001b[1;32m      5\u001b[0m \u001b[0mget_ipython\u001b[0m\u001b[0;34m(\u001b[0m\u001b[0;34m)\u001b[0m\u001b[0;34m.\u001b[0m\u001b[0mrun_line_magic\u001b[0m\u001b[0;34m(\u001b[0m\u001b[0;34m'matplotlib'\u001b[0m\u001b[0;34m,\u001b[0m \u001b[0;34m'inline '\u001b[0m\u001b[0;34m)\u001b[0m\u001b[0;34m\u001b[0m\u001b[0;34m\u001b[0m\u001b[0m\n",
                        "\u001b[0;31mModuleNotFoundError\u001b[0m: No module named 'pydotplus'"
                    ]
                }
            ]
        },
        {
            "metadata": {},
            "cell_type": "markdown",
            "source": "# Support Vector Machine\n"
        },
        {
            "metadata": {},
            "cell_type": "markdown",
            "source": "## Question 3 : Building model using SVM, finding the best k and accuracy evaluation (6 marks)\n- Anwers\n- part1\n - Below Code results perform the SVM using Sickit-learn. Model Accurracy \n   - f1 score 0.7275882012724117\n   - jaccard score 0.7428571428571429\n"
        },
        {
            "metadata": {},
            "cell_type": "code",
            "source": "#SVM\n\nX_trains, X_tests, y_trains, y_tests = train_test_split( X, y, test_size=0.2, random_state=4)\nprint ('Train set:', X_trains.shape,  y_trains.shape)\nprint ('Test set:', X_tests.shape,  y_tests.shape)\n\n\nfrom sklearn import svm\nfrom sklearn.svm import SVC\nclf = svm.SVC(kernel='rbf')\nclf.fit(X_trains, y_trains) \nyhats = clf.predict(X_tests)\nyhats",
            "execution_count": 47,
            "outputs": [
                {
                    "output_type": "stream",
                    "text": "Train set: (276, 8) (276,)\nTest set: (70, 8) (70,)\n",
                    "name": "stdout"
                },
                {
                    "output_type": "stream",
                    "text": "/opt/conda/envs/Python36/lib/python3.6/site-packages/sklearn/svm/base.py:196: FutureWarning: The default value of gamma will change from 'auto' to 'scale' in version 0.22 to account better for unscaled features. Set gamma explicitly to 'auto' or 'scale' to avoid this warning.\n  \"avoid this warning.\", FutureWarning)\n",
                    "name": "stderr"
                },
                {
                    "output_type": "execute_result",
                    "execution_count": 47,
                    "data": {
                        "text/plain": "array(['COLLECTION', 'PAIDOFF', 'PAIDOFF', 'PAIDOFF', 'PAIDOFF',\n       'PAIDOFF', 'COLLECTION', 'COLLECTION', 'PAIDOFF', 'PAIDOFF',\n       'PAIDOFF', 'PAIDOFF', 'PAIDOFF', 'PAIDOFF', 'PAIDOFF', 'PAIDOFF',\n       'COLLECTION', 'PAIDOFF', 'PAIDOFF', 'PAIDOFF', 'PAIDOFF',\n       'PAIDOFF', 'COLLECTION', 'COLLECTION', 'PAIDOFF', 'COLLECTION',\n       'COLLECTION', 'PAIDOFF', 'PAIDOFF', 'PAIDOFF', 'PAIDOFF',\n       'PAIDOFF', 'PAIDOFF', 'PAIDOFF', 'PAIDOFF', 'PAIDOFF', 'PAIDOFF',\n       'PAIDOFF', 'COLLECTION', 'PAIDOFF', 'PAIDOFF', 'PAIDOFF',\n       'PAIDOFF', 'COLLECTION', 'PAIDOFF', 'PAIDOFF', 'PAIDOFF',\n       'PAIDOFF', 'PAIDOFF', 'PAIDOFF', 'PAIDOFF', 'PAIDOFF', 'PAIDOFF',\n       'PAIDOFF', 'PAIDOFF', 'PAIDOFF', 'PAIDOFF', 'PAIDOFF', 'PAIDOFF',\n       'PAIDOFF', 'PAIDOFF', 'PAIDOFF', 'PAIDOFF', 'COLLECTION',\n       'PAIDOFF', 'PAIDOFF', 'PAIDOFF', 'PAIDOFF', 'PAIDOFF', 'PAIDOFF'],\n      dtype=object)"
                    },
                    "metadata": {}
                }
            ]
        },
        {
            "metadata": {},
            "cell_type": "code",
            "source": "\n\nfrom sklearn.metrics import f1_score\nprint(\"f1 score\",f1_score(y_tests, yhats, average='weighted') )\n\nfrom sklearn.metrics import jaccard_similarity_score\nprint(\"jaccard score\",jaccard_similarity_score(y_tests, yhats))\n\nfrom sklearn.model_selection import GridSearchCV\nparam_grid = {'C': [0.01,0.1,1, 10, 100], 'gamma': [10,1,0.1,0.01],'kernel': ['rbf', 'linear', 'sigmoid']}\ngrid = GridSearchCV(SVC(),param_grid,refit=True,verbose=2)",
            "execution_count": 44,
            "outputs": [
                {
                    "output_type": "stream",
                    "text": "f1 score 0.7275882012724117\njaccard score 0.7428571428571429\n",
                    "name": "stdout"
                },
                {
                    "output_type": "stream",
                    "text": "/opt/conda/envs/Python36/lib/python3.6/site-packages/sklearn/svm/base.py:196: FutureWarning: The default value of gamma will change from 'auto' to 'scale' in version 0.22 to account better for unscaled features. Set gamma explicitly to 'auto' or 'scale' to avoid this warning.\n  \"avoid this warning.\", FutureWarning)\n",
                    "name": "stderr"
                }
            ]
        },
        {
            "metadata": {},
            "cell_type": "code",
            "source": "grid.fit(X_trains,y_trains)\n",
            "execution_count": 31,
            "outputs": [
                {
                    "name": "stderr",
                    "output_type": "stream",
                    "text": "/opt/conda/envs/Python36/lib/python3.6/site-packages/sklearn/model_selection/_split.py:2053: FutureWarning: You should specify a value for 'cv' instead of relying on the default value. The default value will change from 3 to 5 in version 0.22.\n  warnings.warn(CV_WARNING, FutureWarning)\n[Parallel(n_jobs=1)]: Using backend SequentialBackend with 1 concurrent workers.\n[Parallel(n_jobs=1)]: Done   1 out of   1 | elapsed:    0.0s remaining:    0.0s\n"
                },
                {
                    "name": "stdout",
                    "output_type": "stream",
                    "text": "Fitting 3 folds for each of 60 candidates, totalling 180 fits\n[CV] C=0.01, gamma=10, kernel=rbf ....................................\n[CV] ..................... C=0.01, gamma=10, kernel=rbf, total=   0.0s\n[CV] C=0.01, gamma=10, kernel=rbf ....................................\n[CV] ..................... C=0.01, gamma=10, kernel=rbf, total=   0.0s\n[CV] C=0.01, gamma=10, kernel=rbf ....................................\n[CV] ..................... C=0.01, gamma=10, kernel=rbf, total=   0.0s\n[CV] C=0.01, gamma=10, kernel=linear .................................\n[CV] .................. C=0.01, gamma=10, kernel=linear, total=   0.0s\n[CV] C=0.01, gamma=10, kernel=linear .................................\n[CV] .................. C=0.01, gamma=10, kernel=linear, total=   0.0s\n[CV] C=0.01, gamma=10, kernel=linear .................................\n[CV] .................. C=0.01, gamma=10, kernel=linear, total=   0.0s\n[CV] C=0.01, gamma=10, kernel=sigmoid ................................\n[CV] ................. C=0.01, gamma=10, kernel=sigmoid, total=   0.0s\n[CV] C=0.01, gamma=10, kernel=sigmoid ................................\n[CV] ................. C=0.01, gamma=10, kernel=sigmoid, total=   0.0s\n[CV] C=0.01, gamma=10, kernel=sigmoid ................................\n[CV] ................. C=0.01, gamma=10, kernel=sigmoid, total=   0.0s\n[CV] C=0.01, gamma=1, kernel=rbf .....................................\n[CV] ...................... C=0.01, gamma=1, kernel=rbf, total=   0.0s\n[CV] C=0.01, gamma=1, kernel=rbf .....................................\n[CV] ...................... C=0.01, gamma=1, kernel=rbf, total=   0.0s\n[CV] C=0.01, gamma=1, kernel=rbf .....................................\n[CV] ...................... C=0.01, gamma=1, kernel=rbf, total=   0.0s\n[CV] C=0.01, gamma=1, kernel=linear ..................................\n[CV] ................... C=0.01, gamma=1, kernel=linear, total=   0.0s\n[CV] C=0.01, gamma=1, kernel=linear ..................................\n[CV] ................... C=0.01, gamma=1, kernel=linear, total=   0.0s\n[CV] C=0.01, gamma=1, kernel=linear ..................................\n[CV] ................... C=0.01, gamma=1, kernel=linear, total=   0.0s\n[CV] C=0.01, gamma=1, kernel=sigmoid .................................\n[CV] .................. C=0.01, gamma=1, kernel=sigmoid, total=   0.0s\n[CV] C=0.01, gamma=1, kernel=sigmoid .................................\n[CV] .................. C=0.01, gamma=1, kernel=sigmoid, total=   0.0s\n[CV] C=0.01, gamma=1, kernel=sigmoid .................................\n[CV] .................. C=0.01, gamma=1, kernel=sigmoid, total=   0.0s\n[CV] C=0.01, gamma=0.1, kernel=rbf ...................................\n[CV] .................... C=0.01, gamma=0.1, kernel=rbf, total=   0.0s\n[CV] C=0.01, gamma=0.1, kernel=rbf ...................................\n[CV] .................... C=0.01, gamma=0.1, kernel=rbf, total=   0.0s\n[CV] C=0.01, gamma=0.1, kernel=rbf ...................................\n[CV] .................... C=0.01, gamma=0.1, kernel=rbf, total=   0.0s\n[CV] C=0.01, gamma=0.1, kernel=linear ................................\n[CV] ................. C=0.01, gamma=0.1, kernel=linear, total=   0.0s\n[CV] C=0.01, gamma=0.1, kernel=linear ................................\n[CV] ................. C=0.01, gamma=0.1, kernel=linear, total=   0.0s\n[CV] C=0.01, gamma=0.1, kernel=linear ................................\n[CV] ................. C=0.01, gamma=0.1, kernel=linear, total=   0.0s\n[CV] C=0.01, gamma=0.1, kernel=sigmoid ...............................\n[CV] ................ C=0.01, gamma=0.1, kernel=sigmoid, total=   0.0s\n[CV] C=0.01, gamma=0.1, kernel=sigmoid ...............................\n[CV] ................ C=0.01, gamma=0.1, kernel=sigmoid, total=   0.0s\n[CV] C=0.01, gamma=0.1, kernel=sigmoid ...............................\n[CV] ................ C=0.01, gamma=0.1, kernel=sigmoid, total=   0.0s\n[CV] C=0.01, gamma=0.01, kernel=rbf ..................................\n[CV] ................... C=0.01, gamma=0.01, kernel=rbf, total=   0.0s\n[CV] C=0.01, gamma=0.01, kernel=rbf ..................................\n[CV] ................... C=0.01, gamma=0.01, kernel=rbf, total=   0.0s\n[CV] C=0.01, gamma=0.01, kernel=rbf ..................................\n[CV] ................... C=0.01, gamma=0.01, kernel=rbf, total=   0.0s\n[CV] C=0.01, gamma=0.01, kernel=linear ...............................\n[CV] ................ C=0.01, gamma=0.01, kernel=linear, total=   0.0s\n[CV] C=0.01, gamma=0.01, kernel=linear ...............................\n[CV] ................ C=0.01, gamma=0.01, kernel=linear, total=   0.0s\n[CV] C=0.01, gamma=0.01, kernel=linear ...............................\n[CV] ................ C=0.01, gamma=0.01, kernel=linear, total=   0.0s\n[CV] C=0.01, gamma=0.01, kernel=sigmoid ..............................\n[CV] ............... C=0.01, gamma=0.01, kernel=sigmoid, total=   0.0s\n[CV] C=0.01, gamma=0.01, kernel=sigmoid ..............................\n[CV] ............... C=0.01, gamma=0.01, kernel=sigmoid, total=   0.0s\n[CV] C=0.01, gamma=0.01, kernel=sigmoid ..............................\n[CV] ............... C=0.01, gamma=0.01, kernel=sigmoid, total=   0.0s\n[CV] C=0.1, gamma=10, kernel=rbf .....................................\n[CV] ...................... C=0.1, gamma=10, kernel=rbf, total=   0.0s\n[CV] C=0.1, gamma=10, kernel=rbf .....................................\n[CV] ...................... C=0.1, gamma=10, kernel=rbf, total=   0.0s\n[CV] C=0.1, gamma=10, kernel=rbf .....................................\n[CV] ...................... C=0.1, gamma=10, kernel=rbf, total=   0.0s\n[CV] C=0.1, gamma=10, kernel=linear ..................................\n[CV] ................... C=0.1, gamma=10, kernel=linear, total=   0.0s\n[CV] C=0.1, gamma=10, kernel=linear ..................................\n[CV] ................... C=0.1, gamma=10, kernel=linear, total=   0.0s\n[CV] C=0.1, gamma=10, kernel=linear ..................................\n[CV] ................... C=0.1, gamma=10, kernel=linear, total=   0.0s\n[CV] C=0.1, gamma=10, kernel=sigmoid .................................\n[CV] .................. C=0.1, gamma=10, kernel=sigmoid, total=   0.0s\n[CV] C=0.1, gamma=10, kernel=sigmoid .................................\n[CV] .................. C=0.1, gamma=10, kernel=sigmoid, total=   0.0s\n[CV] C=0.1, gamma=10, kernel=sigmoid .................................\n[CV] .................. C=0.1, gamma=10, kernel=sigmoid, total=   0.0s\n[CV] C=0.1, gamma=1, kernel=rbf ......................................\n[CV] ....................... C=0.1, gamma=1, kernel=rbf, total=   0.0s\n[CV] C=0.1, gamma=1, kernel=rbf ......................................\n[CV] ....................... C=0.1, gamma=1, kernel=rbf, total=   0.0s\n[CV] C=0.1, gamma=1, kernel=rbf ......................................\n[CV] ....................... C=0.1, gamma=1, kernel=rbf, total=   0.0s\n[CV] C=0.1, gamma=1, kernel=linear ...................................\n[CV] .................... C=0.1, gamma=1, kernel=linear, total=   0.0s\n[CV] C=0.1, gamma=1, kernel=linear ...................................\n[CV] .................... C=0.1, gamma=1, kernel=linear, total=   0.0s\n[CV] C=0.1, gamma=1, kernel=linear ...................................\n[CV] .................... C=0.1, gamma=1, kernel=linear, total=   0.0s\n[CV] C=0.1, gamma=1, kernel=sigmoid ..................................\n[CV] ................... C=0.1, gamma=1, kernel=sigmoid, total=   0.0s\n[CV] C=0.1, gamma=1, kernel=sigmoid ..................................\n[CV] ................... C=0.1, gamma=1, kernel=sigmoid, total=   0.0s\n[CV] C=0.1, gamma=1, kernel=sigmoid ..................................\n[CV] ................... C=0.1, gamma=1, kernel=sigmoid, total=   0.0s\n[CV] C=0.1, gamma=0.1, kernel=rbf ....................................\n[CV] ..................... C=0.1, gamma=0.1, kernel=rbf, total=   0.0s\n[CV] C=0.1, gamma=0.1, kernel=rbf ....................................\n[CV] ..................... C=0.1, gamma=0.1, kernel=rbf, total=   0.0s\n[CV] C=0.1, gamma=0.1, kernel=rbf ....................................\n[CV] ..................... C=0.1, gamma=0.1, kernel=rbf, total=   0.0s\n[CV] C=0.1, gamma=0.1, kernel=linear .................................\n[CV] .................. C=0.1, gamma=0.1, kernel=linear, total=   0.0s\n[CV] C=0.1, gamma=0.1, kernel=linear .................................\n[CV] .................. C=0.1, gamma=0.1, kernel=linear, total=   0.0s\n[CV] C=0.1, gamma=0.1, kernel=linear .................................\n[CV] .................. C=0.1, gamma=0.1, kernel=linear, total=   0.0s\n[CV] C=0.1, gamma=0.1, kernel=sigmoid ................................\n[CV] ................. C=0.1, gamma=0.1, kernel=sigmoid, total=   0.0s\n[CV] C=0.1, gamma=0.1, kernel=sigmoid ................................\n[CV] ................. C=0.1, gamma=0.1, kernel=sigmoid, total=   0.0s\n[CV] C=0.1, gamma=0.1, kernel=sigmoid ................................\n[CV] ................. C=0.1, gamma=0.1, kernel=sigmoid, total=   0.0s\n[CV] C=0.1, gamma=0.01, kernel=rbf ...................................\n[CV] .................... C=0.1, gamma=0.01, kernel=rbf, total=   0.0s\n[CV] C=0.1, gamma=0.01, kernel=rbf ...................................\n[CV] .................... C=0.1, gamma=0.01, kernel=rbf, total=   0.0s\n[CV] C=0.1, gamma=0.01, kernel=rbf ...................................\n[CV] .................... C=0.1, gamma=0.01, kernel=rbf, total=   0.0s\n[CV] C=0.1, gamma=0.01, kernel=linear ................................\n[CV] ................. C=0.1, gamma=0.01, kernel=linear, total=   0.0s\n[CV] C=0.1, gamma=0.01, kernel=linear ................................\n[CV] ................. C=0.1, gamma=0.01, kernel=linear, total=   0.0s\n[CV] C=0.1, gamma=0.01, kernel=linear ................................\n[CV] ................. C=0.1, gamma=0.01, kernel=linear, total=   0.0s\n[CV] C=0.1, gamma=0.01, kernel=sigmoid ...............................\n[CV] ................ C=0.1, gamma=0.01, kernel=sigmoid, total=   0.0s\n[CV] C=0.1, gamma=0.01, kernel=sigmoid ...............................\n[CV] ................ C=0.1, gamma=0.01, kernel=sigmoid, total=   0.0s\n[CV] C=0.1, gamma=0.01, kernel=sigmoid ...............................\n[CV] ................ C=0.1, gamma=0.01, kernel=sigmoid, total=   0.0s\n[CV] C=1, gamma=10, kernel=rbf .......................................\n[CV] ........................ C=1, gamma=10, kernel=rbf, total=   0.0s\n[CV] C=1, gamma=10, kernel=rbf .......................................\n[CV] ........................ C=1, gamma=10, kernel=rbf, total=   0.0s\n[CV] C=1, gamma=10, kernel=rbf .......................................\n[CV] ........................ C=1, gamma=10, kernel=rbf, total=   0.0s\n[CV] C=1, gamma=10, kernel=linear ....................................\n[CV] ..................... C=1, gamma=10, kernel=linear, total=   0.0s\n[CV] C=1, gamma=10, kernel=linear ....................................\n[CV] ..................... C=1, gamma=10, kernel=linear, total=   0.0s\n[CV] C=1, gamma=10, kernel=linear ....................................\n[CV] ..................... C=1, gamma=10, kernel=linear, total=   0.0s\n[CV] C=1, gamma=10, kernel=sigmoid ...................................\n[CV] .................... C=1, gamma=10, kernel=sigmoid, total=   0.0s\n[CV] C=1, gamma=10, kernel=sigmoid ...................................\n[CV] .................... C=1, gamma=10, kernel=sigmoid, total=   0.0s\n[CV] C=1, gamma=10, kernel=sigmoid ...................................\n[CV] .................... C=1, gamma=10, kernel=sigmoid, total=   0.0s\n[CV] C=1, gamma=1, kernel=rbf ........................................\n[CV] ......................... C=1, gamma=1, kernel=rbf, total=   0.0s\n[CV] C=1, gamma=1, kernel=rbf ........................................\n[CV] ......................... C=1, gamma=1, kernel=rbf, total=   0.0s\n[CV] C=1, gamma=1, kernel=rbf ........................................\n[CV] ......................... C=1, gamma=1, kernel=rbf, total=   0.0s\n[CV] C=1, gamma=1, kernel=linear .....................................\n[CV] ...................... C=1, gamma=1, kernel=linear, total=   0.0s\n[CV] C=1, gamma=1, kernel=linear .....................................\n[CV] ...................... C=1, gamma=1, kernel=linear, total=   0.0s\n[CV] C=1, gamma=1, kernel=linear .....................................\n[CV] ...................... C=1, gamma=1, kernel=linear, total=   0.0s\n[CV] C=1, gamma=1, kernel=sigmoid ....................................\n[CV] ..................... C=1, gamma=1, kernel=sigmoid, total=   0.0s\n[CV] C=1, gamma=1, kernel=sigmoid ....................................\n[CV] ..................... C=1, gamma=1, kernel=sigmoid, total=   0.0s\n[CV] C=1, gamma=1, kernel=sigmoid ....................................\n[CV] ..................... C=1, gamma=1, kernel=sigmoid, total=   0.0s\n[CV] C=1, gamma=0.1, kernel=rbf ......................................\n[CV] ....................... C=1, gamma=0.1, kernel=rbf, total=   0.0s\n[CV] C=1, gamma=0.1, kernel=rbf ......................................\n[CV] ....................... C=1, gamma=0.1, kernel=rbf, total=   0.0s\n[CV] C=1, gamma=0.1, kernel=rbf ......................................\n[CV] ....................... C=1, gamma=0.1, kernel=rbf, total=   0.0s\n[CV] C=1, gamma=0.1, kernel=linear ...................................\n[CV] .................... C=1, gamma=0.1, kernel=linear, total=   0.0s\n[CV] C=1, gamma=0.1, kernel=linear ...................................\n[CV] .................... C=1, gamma=0.1, kernel=linear, total=   0.0s\n[CV] C=1, gamma=0.1, kernel=linear ...................................\n[CV] .................... C=1, gamma=0.1, kernel=linear, total=   0.0s\n[CV] C=1, gamma=0.1, kernel=sigmoid ..................................\n[CV] ................... C=1, gamma=0.1, kernel=sigmoid, total=   0.0s\n[CV] C=1, gamma=0.1, kernel=sigmoid ..................................\n[CV] ................... C=1, gamma=0.1, kernel=sigmoid, total=   0.0s\n[CV] C=1, gamma=0.1, kernel=sigmoid ..................................\n[CV] ................... C=1, gamma=0.1, kernel=sigmoid, total=   0.0s\n[CV] C=1, gamma=0.01, kernel=rbf .....................................\n[CV] ...................... C=1, gamma=0.01, kernel=rbf, total=   0.0s\n[CV] C=1, gamma=0.01, kernel=rbf .....................................\n[CV] ...................... C=1, gamma=0.01, kernel=rbf, total=   0.0s\n[CV] C=1, gamma=0.01, kernel=rbf .....................................\n[CV] ...................... C=1, gamma=0.01, kernel=rbf, total=   0.0s\n[CV] C=1, gamma=0.01, kernel=linear ..................................\n[CV] ................... C=1, gamma=0.01, kernel=linear, total=   0.0s\n[CV] C=1, gamma=0.01, kernel=linear ..................................\n[CV] ................... C=1, gamma=0.01, kernel=linear, total=   0.0s\n[CV] C=1, gamma=0.01, kernel=linear ..................................\n[CV] ................... C=1, gamma=0.01, kernel=linear, total=   0.0s\n[CV] C=1, gamma=0.01, kernel=sigmoid .................................\n[CV] .................. C=1, gamma=0.01, kernel=sigmoid, total=   0.0s\n[CV] C=1, gamma=0.01, kernel=sigmoid .................................\n[CV] .................. C=1, gamma=0.01, kernel=sigmoid, total=   0.0s\n[CV] C=1, gamma=0.01, kernel=sigmoid .................................\n[CV] .................. C=1, gamma=0.01, kernel=sigmoid, total=   0.0s\n[CV] C=10, gamma=10, kernel=rbf ......................................\n[CV] ....................... C=10, gamma=10, kernel=rbf, total=   0.0s\n[CV] C=10, gamma=10, kernel=rbf ......................................\n[CV] ....................... C=10, gamma=10, kernel=rbf, total=   0.0s\n[CV] C=10, gamma=10, kernel=rbf ......................................\n[CV] ....................... C=10, gamma=10, kernel=rbf, total=   0.0s\n[CV] C=10, gamma=10, kernel=linear ...................................\n[CV] .................... C=10, gamma=10, kernel=linear, total=   0.0s\n[CV] C=10, gamma=10, kernel=linear ...................................\n[CV] .................... C=10, gamma=10, kernel=linear, total=   0.0s\n[CV] C=10, gamma=10, kernel=linear ...................................\n[CV] .................... C=10, gamma=10, kernel=linear, total=   0.0s\n[CV] C=10, gamma=10, kernel=sigmoid ..................................\n[CV] ................... C=10, gamma=10, kernel=sigmoid, total=   0.0s\n[CV] C=10, gamma=10, kernel=sigmoid ..................................\n[CV] ................... C=10, gamma=10, kernel=sigmoid, total=   0.0s\n[CV] C=10, gamma=10, kernel=sigmoid ..................................\n[CV] ................... C=10, gamma=10, kernel=sigmoid, total=   0.0s\n[CV] C=10, gamma=1, kernel=rbf .......................................\n[CV] ........................ C=10, gamma=1, kernel=rbf, total=   0.0s\n[CV] C=10, gamma=1, kernel=rbf .......................................\n[CV] ........................ C=10, gamma=1, kernel=rbf, total=   0.0s\n[CV] C=10, gamma=1, kernel=rbf .......................................\n[CV] ........................ C=10, gamma=1, kernel=rbf, total=   0.0s\n[CV] C=10, gamma=1, kernel=linear ....................................\n[CV] ..................... C=10, gamma=1, kernel=linear, total=   0.0s\n[CV] C=10, gamma=1, kernel=linear ....................................\n[CV] ..................... C=10, gamma=1, kernel=linear, total=   0.0s\n[CV] C=10, gamma=1, kernel=linear ....................................\n[CV] ..................... C=10, gamma=1, kernel=linear, total=   0.0s\n[CV] C=10, gamma=1, kernel=sigmoid ...................................\n[CV] .................... C=10, gamma=1, kernel=sigmoid, total=   0.0s\n[CV] C=10, gamma=1, kernel=sigmoid ...................................\n[CV] .................... C=10, gamma=1, kernel=sigmoid, total=   0.0s\n[CV] C=10, gamma=1, kernel=sigmoid ...................................\n[CV] .................... C=10, gamma=1, kernel=sigmoid, total=   0.0s\n[CV] C=10, gamma=0.1, kernel=rbf .....................................\n[CV] ...................... C=10, gamma=0.1, kernel=rbf, total=   0.0s\n[CV] C=10, gamma=0.1, kernel=rbf .....................................\n[CV] ...................... C=10, gamma=0.1, kernel=rbf, total=   0.0s\n[CV] C=10, gamma=0.1, kernel=rbf .....................................\n[CV] ...................... C=10, gamma=0.1, kernel=rbf, total=   0.0s\n[CV] C=10, gamma=0.1, kernel=linear ..................................\n[CV] ................... C=10, gamma=0.1, kernel=linear, total=   0.0s\n[CV] C=10, gamma=0.1, kernel=linear ..................................\n[CV] ................... C=10, gamma=0.1, kernel=linear, total=   0.0s\n[CV] C=10, gamma=0.1, kernel=linear ..................................\n[CV] ................... C=10, gamma=0.1, kernel=linear, total=   0.0s\n[CV] C=10, gamma=0.1, kernel=sigmoid .................................\n[CV] .................. C=10, gamma=0.1, kernel=sigmoid, total=   0.0s\n[CV] C=10, gamma=0.1, kernel=sigmoid .................................\n[CV] .................. C=10, gamma=0.1, kernel=sigmoid, total=   0.0s\n[CV] C=10, gamma=0.1, kernel=sigmoid .................................\n[CV] .................. C=10, gamma=0.1, kernel=sigmoid, total=   0.0s\n[CV] C=10, gamma=0.01, kernel=rbf ....................................\n[CV] ..................... C=10, gamma=0.01, kernel=rbf, total=   0.0s\n[CV] C=10, gamma=0.01, kernel=rbf ....................................\n[CV] ..................... C=10, gamma=0.01, kernel=rbf, total=   0.0s\n[CV] C=10, gamma=0.01, kernel=rbf ....................................\n[CV] ..................... C=10, gamma=0.01, kernel=rbf, total=   0.0s\n[CV] C=10, gamma=0.01, kernel=linear .................................\n[CV] .................. C=10, gamma=0.01, kernel=linear, total=   0.0s\n[CV] C=10, gamma=0.01, kernel=linear .................................\n[CV] .................. C=10, gamma=0.01, kernel=linear, total=   0.0s\n[CV] C=10, gamma=0.01, kernel=linear .................................\n[CV] .................. C=10, gamma=0.01, kernel=linear, total=   0.0s\n[CV] C=10, gamma=0.01, kernel=sigmoid ................................\n[CV] ................. C=10, gamma=0.01, kernel=sigmoid, total=   0.0s\n[CV] C=10, gamma=0.01, kernel=sigmoid ................................\n[CV] ................. C=10, gamma=0.01, kernel=sigmoid, total=   0.0s\n[CV] C=10, gamma=0.01, kernel=sigmoid ................................\n[CV] ................. C=10, gamma=0.01, kernel=sigmoid, total=   0.0s\n[CV] C=100, gamma=10, kernel=rbf .....................................\n[CV] ...................... C=100, gamma=10, kernel=rbf, total=   0.0s\n[CV] C=100, gamma=10, kernel=rbf .....................................\n[CV] ...................... C=100, gamma=10, kernel=rbf, total=   0.0s\n[CV] C=100, gamma=10, kernel=rbf .....................................\n[CV] ...................... C=100, gamma=10, kernel=rbf, total=   0.0s\n[CV] C=100, gamma=10, kernel=linear ..................................\n[CV] ................... C=100, gamma=10, kernel=linear, total=   0.0s\n[CV] C=100, gamma=10, kernel=linear ..................................\n[CV] ................... C=100, gamma=10, kernel=linear, total=   0.0s\n[CV] C=100, gamma=10, kernel=linear ..................................\n[CV] ................... C=100, gamma=10, kernel=linear, total=   0.0s\n[CV] C=100, gamma=10, kernel=sigmoid .................................\n[CV] .................. C=100, gamma=10, kernel=sigmoid, total=   0.0s\n[CV] C=100, gamma=10, kernel=sigmoid .................................\n[CV] .................. C=100, gamma=10, kernel=sigmoid, total=   0.0s\n[CV] C=100, gamma=10, kernel=sigmoid .................................\n[CV] .................. C=100, gamma=10, kernel=sigmoid, total=   0.0s\n[CV] C=100, gamma=1, kernel=rbf ......................................\n[CV] ....................... C=100, gamma=1, kernel=rbf, total=   0.0s\n[CV] C=100, gamma=1, kernel=rbf ......................................\n[CV] ....................... C=100, gamma=1, kernel=rbf, total=   0.0s\n[CV] C=100, gamma=1, kernel=rbf ......................................\n[CV] ....................... C=100, gamma=1, kernel=rbf, total=   0.0s\n[CV] C=100, gamma=1, kernel=linear ...................................\n[CV] .................... C=100, gamma=1, kernel=linear, total=   0.0s\n[CV] C=100, gamma=1, kernel=linear ...................................\n[CV] .................... C=100, gamma=1, kernel=linear, total=   0.0s\n[CV] C=100, gamma=1, kernel=linear ...................................\n[CV] .................... C=100, gamma=1, kernel=linear, total=   0.0s\n[CV] C=100, gamma=1, kernel=sigmoid ..................................\n[CV] ................... C=100, gamma=1, kernel=sigmoid, total=   0.0s\n[CV] C=100, gamma=1, kernel=sigmoid ..................................\n[CV] ................... C=100, gamma=1, kernel=sigmoid, total=   0.0s\n[CV] C=100, gamma=1, kernel=sigmoid ..................................\n[CV] ................... C=100, gamma=1, kernel=sigmoid, total=   0.0s\n[CV] C=100, gamma=0.1, kernel=rbf ....................................\n[CV] ..................... C=100, gamma=0.1, kernel=rbf, total=   0.0s\n[CV] C=100, gamma=0.1, kernel=rbf ....................................\n[CV] ..................... C=100, gamma=0.1, kernel=rbf, total=   0.0s\n[CV] C=100, gamma=0.1, kernel=rbf ....................................\n[CV] ..................... C=100, gamma=0.1, kernel=rbf, total=   0.0s\n[CV] C=100, gamma=0.1, kernel=linear .................................\n[CV] .................. C=100, gamma=0.1, kernel=linear, total=   0.0s\n[CV] C=100, gamma=0.1, kernel=linear .................................\n[CV] .................. C=100, gamma=0.1, kernel=linear, total=   0.0s\n[CV] C=100, gamma=0.1, kernel=linear .................................\n[CV] .................. C=100, gamma=0.1, kernel=linear, total=   0.0s\n[CV] C=100, gamma=0.1, kernel=sigmoid ................................\n[CV] ................. C=100, gamma=0.1, kernel=sigmoid, total=   0.0s\n[CV] C=100, gamma=0.1, kernel=sigmoid ................................\n[CV] ................. C=100, gamma=0.1, kernel=sigmoid, total=   0.0s\n[CV] C=100, gamma=0.1, kernel=sigmoid ................................\n[CV] ................. C=100, gamma=0.1, kernel=sigmoid, total=   0.0s\n[CV] C=100, gamma=0.01, kernel=rbf ...................................\n[CV] .................... C=100, gamma=0.01, kernel=rbf, total=   0.0s\n[CV] C=100, gamma=0.01, kernel=rbf ...................................\n[CV] .................... C=100, gamma=0.01, kernel=rbf, total=   0.0s\n[CV] C=100, gamma=0.01, kernel=rbf ...................................\n[CV] .................... C=100, gamma=0.01, kernel=rbf, total=   0.0s\n[CV] C=100, gamma=0.01, kernel=linear ................................\n[CV] ................. C=100, gamma=0.01, kernel=linear, total=   0.0s\n[CV] C=100, gamma=0.01, kernel=linear ................................\n[CV] ................. C=100, gamma=0.01, kernel=linear, total=   0.0s\n[CV] C=100, gamma=0.01, kernel=linear ................................\n[CV] ................. C=100, gamma=0.01, kernel=linear, total=   0.0s\n[CV] C=100, gamma=0.01, kernel=sigmoid ...............................\n[CV] ................ C=100, gamma=0.01, kernel=sigmoid, total=   0.0s\n[CV] C=100, gamma=0.01, kernel=sigmoid ...............................\n[CV] ................ C=100, gamma=0.01, kernel=sigmoid, total=   0.0s\n[CV] C=100, gamma=0.01, kernel=sigmoid ...............................\n[CV] ................ C=100, gamma=0.01, kernel=sigmoid, total=   0.0s\nAvg F1-score: 0.6973\nJaccard score: 0.7143\n"
                },
                {
                    "name": "stderr",
                    "output_type": "stream",
                    "text": "[Parallel(n_jobs=1)]: Done 180 out of 180 | elapsed:    1.0s finished\n/opt/conda/envs/Python36/lib/python3.6/site-packages/sklearn/model_selection/_search.py:841: DeprecationWarning: The default of the `iid` parameter will change from True to False in version 0.22 and will be removed in 0.24. This will change numeric results when test-set sizes are unequal.\n  DeprecationWarning)\n"
                }
            ]
        },
        {
            "metadata": {},
            "cell_type": "code",
            "source": "print(\"Avg F1-score: %.4f\" % f1_score(y_tests,grid.predict(X_tests), average='weighted'))\nprint(\"Jaccard score: %.4f\" % jaccard_similarity_score(y_tests,grid.predict(X_tests)))",
            "execution_count": 32,
            "outputs": [
                {
                    "name": "stdout",
                    "output_type": "stream",
                    "text": "Avg F1-score: 0.6973\nJaccard score: 0.7143\n"
                }
            ]
        },
        {
            "metadata": {},
            "cell_type": "code",
            "source": "clf2 = svm.SVC(C=0.1, cache_size=200, class_weight=None, coef0=0.0,\n  decision_function_shape='ovr', degree=3, gamma=1, kernel='sigmoid',\n  max_iter=-1, probability=False, random_state=None, shrinking=True,\n  tol=0.001, verbose=False)\nclf2.fit(X_trains, y_trains) \nyhat2s = clf2.predict(X_tests)\nprint(\"Avg F1-score: %.4f\" % f1_score(y_tests, yhat2s, average='weighted'))\nprint(\"Jaccard score: %.4f\" % jaccard_similarity_score(y_tests, yhat2s))",
            "execution_count": 33,
            "outputs": [
                {
                    "name": "stdout",
                    "output_type": "stream",
                    "text": "Avg F1-score: 0.6973\nJaccard score: 0.7143\n"
                }
            ]
        },
        {
            "metadata": {},
            "cell_type": "markdown",
            "source": "# Logistic Regression\n"
        },
        {
            "metadata": {},
            "cell_type": "markdown",
            "source": "## Building model using Logistic Regression, finding the best k and accuracy evaluation (6 marks)\n  - LogLoss: : 0.49\n  - k = 0.1\n  - best k = 0.1 leads to 0.49 loss \n"
        },
        {
            "metadata": {},
            "cell_type": "code",
            "source": "## logistic regression\n\nX_trainl, X_testl, y_trainl, y_testl = train_test_split( X, y, test_size=0.2, random_state=4)\nprint ('Train set:', X_trainl.shape,  y_trainl.shape)\nprint ('Test set:', X_testl.shape,  y_testl.shape)\n\nfrom sklearn.linear_model import LogisticRegression\nfrom sklearn.model_selection import GridSearchCV\nfrom sklearn.metrics import confusion_matrix\nLR = LogisticRegression(C=0.1, solver='liblinear').fit(X_trainl,y_trainl)\nyhatl = LR.predict(X_testl)\n\nyhat_prob = LR.predict_proba(X_testl)\n#yhat_prob",
            "execution_count": 52,
            "outputs": [
                {
                    "output_type": "stream",
                    "text": "Train set: (276, 8) (276,)\nTest set: (70, 8) (70,)\n",
                    "name": "stdout"
                }
            ]
        },
        {
            "metadata": {},
            "cell_type": "code",
            "source": "from sklearn.metrics import log_loss\nprint(\"Avg F1-score: %.4f\" % f1_score(y_testl, yhatl, average='weighted'))\nprint(\"Jaccard score: %.4f\" % jaccard_similarity_score(y_testl, yhatl))\nprint (\"LogLoss: : %.2f\" % log_loss(y_testl, yhat_prob))",
            "execution_count": 35,
            "outputs": [
                {
                    "name": "stdout",
                    "output_type": "stream",
                    "text": "Avg F1-score: 0.7048\nJaccard score: 0.7429\nLogLoss: : 0.50\n"
                }
            ]
        },
        {
            "metadata": {},
            "cell_type": "code",
            "source": "grid={\"C\":np.logspace(-3,3,7), \"solver\":[\"liblinear\",\"sag\",\"newton-cg\",\"lbfgs\"]}\nLRf=GridSearchCV(LogisticRegression(),grid,cv=10)\n",
            "execution_count": 37,
            "outputs": []
        },
        {
            "metadata": {},
            "cell_type": "code",
            "source": "f=GridSearchCV(LogisticRegression(),grid,cv=10)\nLRf.fit(X_trainl,y_trainl)\nprint(\"tuned hpyerparameters :(best parameters) \",LRf.best_params_)\nprint(\"Avg F1-score: %.4f\" % f1_score(y_testl, LRf.predict(X_testl), average='weighted'))\nprint(\"Jaccard score: %.4f\" % jaccard_similarity_score(y_testl, LRf.predict(X_testl)))\nprint (\"LogLoss: : %.2f\" % log_loss(y_testl, LRf.predict_proba(X_testl)))",
            "execution_count": 38,
            "outputs": [
                {
                    "name": "stderr",
                    "output_type": "stream",
                    "text": "/opt/conda/envs/Python36/lib/python3.6/site-packages/sklearn/linear_model/sag.py:334: ConvergenceWarning: The max_iter was reached which means the coef_ did not converge\n  \"the coef_ did not converge\", ConvergenceWarning)\n/opt/conda/envs/Python36/lib/python3.6/site-packages/sklearn/linear_model/sag.py:334: ConvergenceWarning: The max_iter was reached which means the coef_ did not converge\n  \"the coef_ did not converge\", ConvergenceWarning)\n/opt/conda/envs/Python36/lib/python3.6/site-packages/sklearn/linear_model/sag.py:334: ConvergenceWarning: The max_iter was reached which means the coef_ did not converge\n  \"the coef_ did not converge\", ConvergenceWarning)\n/opt/conda/envs/Python36/lib/python3.6/site-packages/sklearn/linear_model/sag.py:334: ConvergenceWarning: The max_iter was reached which means the coef_ did not converge\n  \"the coef_ did not converge\", ConvergenceWarning)\n/opt/conda/envs/Python36/lib/python3.6/site-packages/sklearn/linear_model/sag.py:334: ConvergenceWarning: The max_iter was reached which means the coef_ did not converge\n  \"the coef_ did not converge\", ConvergenceWarning)\n/opt/conda/envs/Python36/lib/python3.6/site-packages/sklearn/linear_model/sag.py:334: ConvergenceWarning: The max_iter was reached which means the coef_ did not converge\n  \"the coef_ did not converge\", ConvergenceWarning)\n/opt/conda/envs/Python36/lib/python3.6/site-packages/sklearn/linear_model/sag.py:334: ConvergenceWarning: The max_iter was reached which means the coef_ did not converge\n  \"the coef_ did not converge\", ConvergenceWarning)\n/opt/conda/envs/Python36/lib/python3.6/site-packages/sklearn/linear_model/sag.py:334: ConvergenceWarning: The max_iter was reached which means the coef_ did not converge\n  \"the coef_ did not converge\", ConvergenceWarning)\n/opt/conda/envs/Python36/lib/python3.6/site-packages/sklearn/linear_model/sag.py:334: ConvergenceWarning: The max_iter was reached which means the coef_ did not converge\n  \"the coef_ did not converge\", ConvergenceWarning)\n/opt/conda/envs/Python36/lib/python3.6/site-packages/sklearn/linear_model/sag.py:334: ConvergenceWarning: The max_iter was reached which means the coef_ did not converge\n  \"the coef_ did not converge\", ConvergenceWarning)\n/opt/conda/envs/Python36/lib/python3.6/site-packages/sklearn/linear_model/sag.py:334: ConvergenceWarning: The max_iter was reached which means the coef_ did not converge\n  \"the coef_ did not converge\", ConvergenceWarning)\n/opt/conda/envs/Python36/lib/python3.6/site-packages/sklearn/linear_model/sag.py:334: ConvergenceWarning: The max_iter was reached which means the coef_ did not converge\n  \"the coef_ did not converge\", ConvergenceWarning)\n/opt/conda/envs/Python36/lib/python3.6/site-packages/sklearn/linear_model/sag.py:334: ConvergenceWarning: The max_iter was reached which means the coef_ did not converge\n  \"the coef_ did not converge\", ConvergenceWarning)\n/opt/conda/envs/Python36/lib/python3.6/site-packages/sklearn/linear_model/sag.py:334: ConvergenceWarning: The max_iter was reached which means the coef_ did not converge\n  \"the coef_ did not converge\", ConvergenceWarning)\n/opt/conda/envs/Python36/lib/python3.6/site-packages/sklearn/linear_model/sag.py:334: ConvergenceWarning: The max_iter was reached which means the coef_ did not converge\n  \"the coef_ did not converge\", ConvergenceWarning)\n/opt/conda/envs/Python36/lib/python3.6/site-packages/sklearn/linear_model/sag.py:334: ConvergenceWarning: The max_iter was reached which means the coef_ did not converge\n  \"the coef_ did not converge\", ConvergenceWarning)\n/opt/conda/envs/Python36/lib/python3.6/site-packages/sklearn/linear_model/sag.py:334: ConvergenceWarning: The max_iter was reached which means the coef_ did not converge\n  \"the coef_ did not converge\", ConvergenceWarning)\n/opt/conda/envs/Python36/lib/python3.6/site-packages/sklearn/linear_model/sag.py:334: ConvergenceWarning: The max_iter was reached which means the coef_ did not converge\n  \"the coef_ did not converge\", ConvergenceWarning)\n/opt/conda/envs/Python36/lib/python3.6/site-packages/sklearn/linear_model/sag.py:334: ConvergenceWarning: The max_iter was reached which means the coef_ did not converge\n  \"the coef_ did not converge\", ConvergenceWarning)\n/opt/conda/envs/Python36/lib/python3.6/site-packages/sklearn/linear_model/sag.py:334: ConvergenceWarning: The max_iter was reached which means the coef_ did not converge\n  \"the coef_ did not converge\", ConvergenceWarning)\n/opt/conda/envs/Python36/lib/python3.6/site-packages/sklearn/linear_model/sag.py:334: ConvergenceWarning: The max_iter was reached which means the coef_ did not converge\n  \"the coef_ did not converge\", ConvergenceWarning)\n/opt/conda/envs/Python36/lib/python3.6/site-packages/sklearn/linear_model/sag.py:334: ConvergenceWarning: The max_iter was reached which means the coef_ did not converge\n  \"the coef_ did not converge\", ConvergenceWarning)\n/opt/conda/envs/Python36/lib/python3.6/site-packages/sklearn/linear_model/sag.py:334: ConvergenceWarning: The max_iter was reached which means the coef_ did not converge\n  \"the coef_ did not converge\", ConvergenceWarning)\n/opt/conda/envs/Python36/lib/python3.6/site-packages/sklearn/linear_model/sag.py:334: ConvergenceWarning: The max_iter was reached which means the coef_ did not converge\n  \"the coef_ did not converge\", ConvergenceWarning)\n/opt/conda/envs/Python36/lib/python3.6/site-packages/sklearn/linear_model/sag.py:334: ConvergenceWarning: The max_iter was reached which means the coef_ did not converge\n  \"the coef_ did not converge\", ConvergenceWarning)\n/opt/conda/envs/Python36/lib/python3.6/site-packages/sklearn/linear_model/sag.py:334: ConvergenceWarning: The max_iter was reached which means the coef_ did not converge\n  \"the coef_ did not converge\", ConvergenceWarning)\n/opt/conda/envs/Python36/lib/python3.6/site-packages/sklearn/linear_model/sag.py:334: ConvergenceWarning: The max_iter was reached which means the coef_ did not converge\n  \"the coef_ did not converge\", ConvergenceWarning)\n"
                },
                {
                    "name": "stdout",
                    "output_type": "stream",
                    "text": "tuned hpyerparameters :(best parameters)  {'C': 0.1, 'solver': 'liblinear'}\nAvg F1-score: 0.7048\nJaccard score: 0.7429\nLogLoss: : 0.50\n"
                },
                {
                    "name": "stderr",
                    "output_type": "stream",
                    "text": "/opt/conda/envs/Python36/lib/python3.6/site-packages/sklearn/model_selection/_search.py:841: DeprecationWarning: The default of the `iid` parameter will change from True to False in version 0.22 and will be removed in 0.24. This will change numeric results when test-set sizes are unequal.\n  DeprecationWarning)\n"
                }
            ]
        },
        {
            "metadata": {},
            "cell_type": "code",
            "source": "LR2 = LogisticRegression(C=0.01, solver='sag').fit(X_trainl,y_trainl)\nyhat_prob2 = LR2.predict_proba(X_testl)\nprint (\"LogLoss: : %.2f\" % log_loss(y_testl, yhat_prob2))",
            "execution_count": 63,
            "outputs": [
                {
                    "output_type": "stream",
                    "text": "LogLoss: : 0.49\n",
                    "name": "stdout"
                }
            ]
        },
        {
            "metadata": {},
            "cell_type": "code",
            "source": "LR2 = LogisticRegression(C=0.01, solver='sag').fit(X_trainl,y_trainl)\nyhat_prob3 = LR2.predict_proba(X_testl)\nprint (\"LogLoss: : %.2f\" % log_loss(y_testl, yhat_prob3))",
            "execution_count": 64,
            "outputs": [
                {
                    "output_type": "stream",
                    "text": "LogLoss: : 0.49\n",
                    "name": "stdout"
                }
            ]
        },
        {
            "metadata": {},
            "cell_type": "code",
            "source": "LR2 = LogisticRegression(C=0.01, solver='sag').fit(X_trainl,y_trainl)\nyhat_prob4 = LR2.predict_proba(X_testl)\nprint (\"LogLoss: : %.2f\" % log_loss(y_testl, yhat_prob4))",
            "execution_count": 65,
            "outputs": [
                {
                    "output_type": "stream",
                    "text": "LogLoss: : 0.49\n",
                    "name": "stdout"
                }
            ]
        },
        {
            "metadata": {},
            "cell_type": "markdown",
            "source": "# Model Evaluation using Test set"
        },
        {
            "metadata": {},
            "cell_type": "code",
            "source": "### MODEL EVAL\n\nfrom sklearn.metrics import jaccard_similarity_score\nfrom sklearn.metrics import f1_score\nfrom sklearn.metrics import log_loss",
            "execution_count": 54,
            "outputs": []
        },
        {
            "metadata": {},
            "cell_type": "markdown",
            "source": "First, download and load the test set:"
        },
        {
            "metadata": {},
            "cell_type": "code",
            "source": "!wget -O loan_test.csv https://s3-api.us-geo.objectstorage.softlayer.net/cf-courses-data/CognitiveClass/ML0101ENv3/labs/loan_test.csv",
            "execution_count": 53,
            "outputs": [
                {
                    "output_type": "stream",
                    "text": "--2020-07-02 10:39:31--  https://s3-api.us-geo.objectstorage.softlayer.net/cf-courses-data/CognitiveClass/ML0101ENv3/labs/loan_test.csv\nResolving s3-api.us-geo.objectstorage.softlayer.net (s3-api.us-geo.objectstorage.softlayer.net)... 67.228.254.196\nConnecting to s3-api.us-geo.objectstorage.softlayer.net (s3-api.us-geo.objectstorage.softlayer.net)|67.228.254.196|:443... connected.\nHTTP request sent, awaiting response... 200 OK\nLength: 3642 (3.6K) [text/csv]\nSaving to: \u2018loan_test.csv\u2019\n\n100%[======================================>] 3,642       --.-K/s   in 0s      \n\n2020-07-02 10:39:31 (390 MB/s) - \u2018loan_test.csv\u2019 saved [3642/3642]\n\n",
                    "name": "stdout"
                }
            ]
        },
        {
            "metadata": {},
            "cell_type": "code",
            "source": "test_df = pd.read_csv('loan_test.csv')",
            "execution_count": 55,
            "outputs": []
        },
        {
            "metadata": {},
            "cell_type": "code",
            "source": "test_df['due_date'] = pd.to_datetime(test_df['due_date'])\ntest_df['effective_date'] = pd.to_datetime(test_df['effective_date'])\n\ntest_df['dayofweek'] = test_df['effective_date'].dt.dayofweek\ntest_df['weekend'] = test_df['dayofweek'].apply(lambda x: 1 if (x>4)  else 0)\ntest_df['Gender'].replace(to_replace=['male','female'], value=[0,1],inplace=True)",
            "execution_count": 56,
            "outputs": []
        },
        {
            "metadata": {},
            "cell_type": "code",
            "source": "Feature = test_df[['Principal','age','Gender','terms','weekend']]\nFeature = pd.concat([Feature,pd.get_dummies(test_df['education'])], axis=1)\nFeature.drop(['Master or Above'], axis = 1,inplace=True)",
            "execution_count": 57,
            "outputs": []
        },
        {
            "metadata": {},
            "cell_type": "code",
            "source": "X_t = Feature\ny_t = test_df['loan_status'].values\nX_t= preprocessing.StandardScaler().fit(X_t).transform(X_t)",
            "execution_count": 58,
            "outputs": [
                {
                    "output_type": "stream",
                    "text": "/opt/conda/envs/Python36/lib/python3.6/site-packages/sklearn/preprocessing/data.py:645: DataConversionWarning: Data with input dtype uint8, int64 were all converted to float64 by StandardScaler.\n  return self.partial_fit(X, y)\n/opt/conda/envs/Python36/lib/python3.6/site-packages/ipykernel/__main__.py:3: DataConversionWarning: Data with input dtype uint8, int64 were all converted to float64 by StandardScaler.\n  app.launch_new_instance()\n",
                    "name": "stderr"
                }
            ]
        },
        {
            "metadata": {},
            "cell_type": "code",
            "source": "test_y = test_df['loan_status'].values\ntest_y[0:5]",
            "execution_count": 70,
            "outputs": [
                {
                    "output_type": "execute_result",
                    "execution_count": 70,
                    "data": {
                        "text/plain": "array(['PAIDOFF', 'PAIDOFF', 'PAIDOFF', 'PAIDOFF', 'PAIDOFF'],\n      dtype=object)"
                    },
                    "metadata": {}
                }
            ]
        },
        {
            "metadata": {},
            "cell_type": "code",
            "source": "knnf=f1_score(y_t,neighf.predict(X_t), average='weighted')\nknnj=jaccard_similarity_score(y_t,neighf.predict(X_t))",
            "execution_count": 72,
            "outputs": []
        },
        {
            "metadata": {},
            "cell_type": "code",
            "source": "dtf=f1_score(y_t, decTreeff.predict(X_t), average='weighted')\ndtj=jaccard_similarity_score(y_t, decTreeff.predict(X_t))",
            "execution_count": 73,
            "outputs": []
        },
        {
            "metadata": {},
            "cell_type": "code",
            "source": "svmf=f1_score(y_t, clf.predict(X_t), average='weighted')\nsvmj=jaccard_similarity_score(y_t, clf.predict(X_t))",
            "execution_count": 74,
            "outputs": []
        },
        {
            "metadata": {},
            "cell_type": "code",
            "source": "lrf=f1_score(y_t, LR2.predict(X_t), average='weighted',labels=np.unique(LR2.predict(X_t)))\nlrj=jaccard_similarity_score(y_t, LR2.predict(X_t))",
            "execution_count": 75,
            "outputs": []
        },
        {
            "metadata": {},
            "cell_type": "code",
            "source": "lrll=log_loss(y_t, LR2.predict_proba(X_t))",
            "execution_count": 76,
            "outputs": []
        },
        {
            "metadata": {},
            "cell_type": "code",
            "source": "LR_yhat = LR2.predict(X_t)\nLR_yhat_prob = LR2.predict_proba(X_t)\nprint(\"LR Jaccard index: %.2f\" % jaccard_similarity_score(test_y, LR_yhat))\nprint(\"LR F1-score: %.2f\" % f1_score(test_y, LR_yhat, average='weighted') )\nprint(\"LR LogLoss: %.2f\" % log_loss(test_y, LR_yhat_prob))",
            "execution_count": 77,
            "outputs": [
                {
                    "output_type": "stream",
                    "text": "LR Jaccard index: 0.74\nLR F1-score: 0.63\nLR LogLoss: 0.54\n",
                    "name": "stdout"
                },
                {
                    "output_type": "stream",
                    "text": "/opt/conda/envs/Python36/lib/python3.6/site-packages/sklearn/metrics/classification.py:1143: UndefinedMetricWarning: F-score is ill-defined and being set to 0.0 in labels with no predicted samples.\n  'precision', 'predicted', average, warn_for)\n",
                    "name": "stderr"
                }
            ]
        },
        {
            "metadata": {},
            "cell_type": "markdown",
            "source": "| Algorithm          | Jaccard | F1-score | LogLoss |\n|--------------------|---------|----------|---------|\n| KNN                | 0.67    | 0.63     | NA      |\n| Decision Tree      | 0.72    | 0.74     | NA      |\n| SVM                | 0.80    | 0.76     | NA      |\n| LogisticRegression | 0.74    | 0.63     | 0.54  |"
        },
        {
            "metadata": {},
            "cell_type": "code",
            "source": "",
            "execution_count": null,
            "outputs": []
        }
    ],
    "metadata": {
        "kernelspec": {
            "name": "python3",
            "display_name": "Python 3.6",
            "language": "python"
        },
        "language_info": {
            "name": "python",
            "version": "3.6.9",
            "mimetype": "text/x-python",
            "codemirror_mode": {
                "name": "ipython",
                "version": 3
            },
            "pygments_lexer": "ipython3",
            "nbconvert_exporter": "python",
            "file_extension": ".py"
        }
    },
    "nbformat": 4,
    "nbformat_minor": 1
}